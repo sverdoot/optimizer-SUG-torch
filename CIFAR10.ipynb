{
  "nbformat": 4,
  "nbformat_minor": 0,
  "metadata": {
    "colab": {
      "name": "CIFAR10.ipynb",
      "version": "0.3.2",
      "provenance": [],
      "collapsed_sections": [],
      "include_colab_link": true
    },
    "kernelspec": {
      "name": "python3",
      "display_name": "Python 3"
    },
    "accelerator": "GPU"
  },
  "cells": [
    {
      "cell_type": "markdown",
      "metadata": {
        "id": "view-in-github",
        "colab_type": "text"
      },
      "source": [
        "<a href=\"https://colab.research.google.com/github/sverdoot/optimizer-SUG-torch/blob/master/CIFAR10.ipynb\" target=\"_parent\"><img src=\"https://colab.research.google.com/assets/colab-badge.svg\" alt=\"Open In Colab\"/></a>"
      ]
    },
    {
      "cell_type": "code",
      "metadata": {
        "id": "EToBGXtFYWgd",
        "colab_type": "code",
        "outputId": "de0ec54c-d917-4b1a-948d-9a275cc3b9ae",
        "colab": {
          "base_uri": "https://localhost:8080/",
          "height": 34
        }
      },
      "source": [
        "from google.colab import drive\n",
        "drive.mount('/content/drive')"
      ],
      "execution_count": 0,
      "outputs": [
        {
          "output_type": "stream",
          "text": [
            "Drive already mounted at /content/drive; to attempt to forcibly remount, call drive.mount(\"/content/drive\", force_remount=True).\n"
          ],
          "name": "stdout"
        }
      ]
    },
    {
      "cell_type": "code",
      "metadata": {
        "id": "wbKsgAwNYVjZ",
        "colab_type": "code",
        "colab": {}
      },
      "source": [
        "import os\n",
        "os.chdir(\"/content/drive/My Drive/Colab Notebooks/Optimization project\")\n",
        "os.getcwd()\n",
        "\n",
        "file_path = \"./CIFAR10\"\n",
        "#directory = os.path.dirname(file_path)\n",
        "\n",
        "try:\n",
        "    os.stat(file_path)\n",
        "except:\n",
        "    os.mkdir(file_path)       "
      ],
      "execution_count": 0,
      "outputs": []
    },
    {
      "cell_type": "code",
      "metadata": {
        "id": "yjtZDmg7YmpZ",
        "colab_type": "code",
        "colab": {}
      },
      "source": [
        "%matplotlib inline\n",
        "import torch\n",
        "from torch import nn\n",
        "from torch import optim\n",
        "from torch.autograd import Variable\n",
        "from torch.utils.data.sampler import SubsetRandomSampler\n",
        "import torch.nn.functional as F\n",
        "import torch.optim as optim\n",
        "\n",
        "import torchvision\n",
        "import torchvision.transforms as transforms\n",
        "\n",
        "import matplotlib.pyplot as plt\n",
        "import numpy as np\n",
        "\n",
        "import time"
      ],
      "execution_count": 0,
      "outputs": []
    },
    {
      "cell_type": "code",
      "metadata": {
        "colab_type": "code",
        "id": "pA8A5BaJ-1-A",
        "colab": {}
      },
      "source": [
        "import torch\n",
        "from torch.optim import Optimizer\n",
        "import math\n",
        "import copy\n",
        "\n",
        "class SUG(Optimizer):\n",
        "    def __init__(self, params, l_0, d_0=0, prob=1., eps=1e-4, momentum=0, dampening=0,\n",
        "                 weight_decay=0, nesterov=False):\n",
        "        if l_0 < 0.0:\n",
        "            raise ValueError(\"Invalid Lipsitz constant of gradient: {}\".format(l_0))\n",
        "        if d_0 < 0.0:\n",
        "            raise ValueError(\"Invalid disperion of gradient: {}\".format(d_0))\n",
        "        if momentum < 0.0:\n",
        "            raise ValueError(\"Invalid momentum value: {}\".format(momentum))\n",
        "        if weight_decay < 0.0:\n",
        "            raise ValueError(\"Invalid weight_decay value: {}\".format(weight_decay))\n",
        "\n",
        "        defaults = dict(L=l_0, momentum=momentum, dampening=dampening,\n",
        "                        weight_decay=weight_decay, nesterov=nesterov)\n",
        "        if nesterov and (momentum <= 0 or dampening != 0):\n",
        "            raise ValueError(\"Nesterov momentum requires a momentum and zero dampening\")\n",
        "        self.Lips = l_0\n",
        "        self.prev_Lips = l_0\n",
        "        self.D_0 = d_0\n",
        "        self.eps = eps\n",
        "        self.prob = prob\n",
        "        self.start_param = params\n",
        "        self.upd_sq_grad_norm = None\n",
        "        self.sq_grad_norm = None\n",
        "        self.loss = torch.tensor(0.)\n",
        "        self.cur_loss = 0\n",
        "        self.closure = None\n",
        "        super(SUG, self).__init__(params, defaults)\n",
        "\n",
        "    def __setstate__(self, state):\n",
        "        super(SUG, self).__setstate__(state)\n",
        "        for group in self.param_groups:\n",
        "            group.setdefault('nesterov', False)\n",
        "\n",
        "    def comp_batch_size(self):\n",
        "        \"\"\"Returns optimal batch size for given d_0, eps and l_0;\n",
        "\n",
        "        \"\"\"\n",
        "        return math.ceil(2 * self.D_0 * self.eps / self.prev_Lips)\n",
        "\n",
        "    def step(self, loss, closure):\n",
        "        \"\"\"Performs a single optimization step.\n",
        "\n",
        "        Arguments:\n",
        "            loss : current loss\n",
        "\n",
        "            closure (callable, optional): A closure that reevaluates the model\n",
        "                and returns the loss.\n",
        "        \"\"\"\n",
        "        self.start_params = []\n",
        "        self.loss = loss\n",
        "        self.sq_grad_norm = 0\n",
        "        self.cur_loss = loss\n",
        "        self.closure = closure\n",
        "        for gr_idx, group in enumerate(self.param_groups):\n",
        "            weight_decay = group['weight_decay']\n",
        "            momentum = group['momentum']\n",
        "            dampening = group['dampening']\n",
        "            nesterov = group['nesterov']\n",
        "            self.start_params.append([])\n",
        "            for p_idx, p in enumerate(group['params']):\n",
        "                self.start_params[gr_idx].append([p.data.clone()])\n",
        "                if p.grad is None:\n",
        "                    continue\n",
        "                self.start_params[gr_idx][p_idx].append(p.grad.data.clone())\n",
        "                d_p = self.start_params[gr_idx][p_idx][1]\n",
        "                p_ = self.start_params[gr_idx][p_idx][0]\n",
        "                \n",
        "                \n",
        "                if weight_decay != 0:\n",
        "                    d_p.add_(weight_decay, p.data)\n",
        "                    self.cur_loss += weight_decay * torch.sum(p * p).item()\n",
        "                   \n",
        "                \n",
        "                self.sq_grad_norm += torch.sum(d_p * d_p).item()\n",
        "                \n",
        "                if momentum != 0:\n",
        "                    param_state = self.state[p]\n",
        "                    if 'momentum_buffer' not in param_state:\n",
        "                        buf = param_state['momentum_buffer'] = torch.zeros_like(p.data)\n",
        "                        buf.mul_(momentum).add_(d_p)\n",
        "                    else:\n",
        "                        buf = param_state['momentum_buffer']\n",
        "                        buf.mul_(momentum).add_(1 - dampening, d_p)\n",
        "                    if nesterov:\n",
        "                        d_p = d_p.add(momentum, buf)\n",
        "                    else:\n",
        "                        d_p = buf\n",
        "                self.start_params[gr_idx][p_idx][1] = d_p\n",
        "                \n",
        "        i = 0\n",
        "        self.Lips = max(self.prev_Lips / 2, 0.1)\n",
        "        difference = -1\n",
        "        while difference < 0 or i == 0:\n",
        "            if (i > 0): \n",
        "                self.Lips = max(self.Lips * 2, 0.1)\n",
        "            for gr_idx, group in enumerate(self.param_groups):\n",
        "                for p_idx, p in enumerate(group['params']):\n",
        "                    if p.grad is None:\n",
        "                        continue\n",
        "                    start_param_val = self.start_params[gr_idx][p_idx][0]\n",
        "                    start_param_grad = self.start_params[gr_idx][p_idx][1]\n",
        "                    p.data = start_param_val - 1/(2*self.Lips) * start_param_grad\n",
        "            difference, upd_loss = self.stop_criteria()\n",
        "            i += 1\n",
        "        self.prev_Lips = self.Lips\n",
        "\n",
        "        return self.Lips, i\n",
        "\n",
        "    def stop_criteria(self):\n",
        "        \"\"\"Checks if the Lipsitz constant of gradient is appropriate\n",
        "        \n",
        "           <g(x_k), w_k - x_k> + 2L_k / 2 ||x_k - w_k||^2 = - 1 / (2L_k)||g(x_k)||^2 + 1 / (4L_k)||g(x_k)||^2 = -1 / (4L_k)||g(x_k)||^2                \n",
        "        \"\"\"\n",
        "        upd_loss = self.closure()\n",
        "        major =  self.cur_loss - 1 / (4 * self.Lips) * self.sq_grad_norm\n",
        "        return major - upd_loss - self.l2_reg() + self.eps / 10, upd_loss\n",
        "\n",
        "    def get_lipsitz_const(self):\n",
        "        \"\"\"Returns current Lipsitz constant of the gradient of the loss function\n",
        "        \"\"\"\n",
        "        return self.Lips\n",
        "    \n",
        "    def get_sq_grad(self):\n",
        "        \"\"\"Returns the current second norm of the gradient of the loss function \n",
        "           calculated by the formula\n",
        "           \n",
        "           ||f'(p_1,...,p_n)||_2^2 ~ \\sum\\limits_{i=1}^n ((df/dp_i) * (df/dp_i))(p1,...,p_n))\n",
        "           \n",
        "        \"\"\"\n",
        "        self.upd_sq_grad_norm = 0\n",
        "        for gr_idx, group in enumerate(self.param_groups):\n",
        "            for p_idx, p in enumerate(group['params']):\n",
        "                if p.grad is None:\n",
        "                    continue\n",
        "                self.upd_sq_grad_norm += torch.sum(p.grad.data * p.grad.data).item()\n",
        "        \n",
        "        return self.upd_sq_grad_norm\n",
        "    \n",
        "    def l2_reg(self):\n",
        "        \"\"\"Returns the current l2 regularization addiction\n",
        "           \n",
        "        \"\"\"\n",
        "        self.upd_l2_reg = 0\n",
        "        for gr_idx, group in enumerate(self.param_groups):\n",
        "            weight_decay = group['weight_decay']\n",
        "            if weight_decay != 0:\n",
        "                for p_idx, p in enumerate(group['params']):\n",
        "                    self.upd_l2_reg += weight_decay * torch.sum(p * p).item()\n",
        "        \n",
        "        return self.upd_l2_reg"
      ],
      "execution_count": 0,
      "outputs": []
    },
    {
      "cell_type": "code",
      "metadata": {
        "id": "7txImi-VYhOM",
        "colab_type": "code",
        "outputId": "7c4d3e92-dc4c-40ee-de63-cc17392a57e6",
        "colab": {
          "base_uri": "https://localhost:8080/",
          "height": 34
        }
      },
      "source": [
        "device = torch.device(\"cuda:0\" if torch.cuda.is_available() else \"cpu\")\n",
        "\n",
        "device"
      ],
      "execution_count": 0,
      "outputs": [
        {
          "output_type": "execute_result",
          "data": {
            "text/plain": [
              "device(type='cuda', index=0)"
            ]
          },
          "metadata": {
            "tags": []
          },
          "execution_count": 5
        }
      ]
    },
    {
      "cell_type": "markdown",
      "metadata": {
        "id": "mBA2Gv8ZqT1T",
        "colab_type": "text"
      },
      "source": [
        "## Data"
      ]
    },
    {
      "cell_type": "code",
      "metadata": {
        "id": "sS_wSA0-qV0w",
        "colab_type": "code",
        "colab": {}
      },
      "source": [
        "batch_size = 32"
      ],
      "execution_count": 0,
      "outputs": []
    },
    {
      "cell_type": "code",
      "metadata": {
        "id": "-LK93IAGkTlD",
        "colab_type": "code",
        "outputId": "966c35b1-be0f-4f9a-a1f2-1629a702f9cf",
        "colab": {
          "base_uri": "https://localhost:8080/",
          "height": 68
        }
      },
      "source": [
        "transform = transforms.Compose(\n",
        "    [transforms.ToTensor(),\n",
        "     transforms.Normalize((0.5, 0.5, 0.5), (0.5, 0.5, 0.5))])\n",
        "\n",
        "trainset = torchvision.datasets.CIFAR10(root='./data', train=True,\n",
        "                                        download=True, transform=transform)\n",
        "\n",
        "valid_dataset = torchvision.datasets.CIFAR10(root='/data', train=True, \n",
        "                                        download=True, transform=transform)\n",
        "\n",
        "testset = torchvision.datasets.CIFAR10(root='./data', train=False,\n",
        "                                        download=True, transform=transform)\n",
        "testloader = torch.utils.data.DataLoader(testset, batch_size=batch_size,\n",
        "                                         shuffle=False, num_workers=2)\n",
        "\n",
        "classes = ('plane', 'car', 'bird', 'cat',\n",
        "           'deer', 'dog', 'frog', 'horse', 'ship', 'truck')"
      ],
      "execution_count": 0,
      "outputs": [
        {
          "output_type": "stream",
          "text": [
            "Files already downloaded and verified\n"
          ],
          "name": "stdout"
        },
        {
          "output_type": "stream",
          "text": [
            "\r0it [00:00, ?it/s]"
          ],
          "name": "stderr"
        },
        {
          "output_type": "stream",
          "text": [
            "Downloading https://www.cs.toronto.edu/~kriz/cifar-10-python.tar.gz to /data/cifar-10-python.tar.gz\n"
          ],
          "name": "stdout"
        },
        {
          "output_type": "stream",
          "text": [
            "100%|█████████▉| 169795584/170498071 [00:21<00:00, 7490036.30it/s]"
          ],
          "name": "stderr"
        },
        {
          "output_type": "stream",
          "text": [
            "Files already downloaded and verified\n"
          ],
          "name": "stdout"
        }
      ]
    },
    {
      "cell_type": "code",
      "metadata": {
        "id": "PEl5iQJ9ZZ4n",
        "colab_type": "code",
        "colab": {}
      },
      "source": [
        "valid_size=0.15\n",
        "num_train = len(trainset)\n",
        "indices = list(range(num_train))\n",
        "split = int(np.floor(valid_size * num_train))\n",
        "\n",
        "np.random.seed(42)\n",
        "np.random.shuffle(indices)\n",
        "\n",
        "train_idx, valid_idx = indices[split:], indices[:split]\n",
        "\n",
        "train_sampler = SubsetRandomSampler(train_idx)\n",
        "valid_sampler = SubsetRandomSampler(valid_idx)\n",
        "\n",
        "trainloader = torch.utils.data.DataLoader(trainset, \n",
        "               batch_size=batch_size, sampler=train_sampler,\n",
        "               num_workers=2)\n",
        "\n",
        "validloader = torch.utils.data.DataLoader(valid_dataset, \n",
        "               batch_size=batch_size, sampler=valid_sampler,\n",
        "               num_workers=2)"
      ],
      "execution_count": 0,
      "outputs": []
    },
    {
      "cell_type": "code",
      "metadata": {
        "id": "4yhxBsWJGdsQ",
        "colab_type": "code",
        "colab": {}
      },
      "source": [
        "batchs_per_epoch = len(trainloader) / batch_size"
      ],
      "execution_count": 0,
      "outputs": []
    },
    {
      "cell_type": "code",
      "metadata": {
        "id": "LCF6wqjvqQf2",
        "colab_type": "code",
        "outputId": "320eba9e-9beb-4442-de0a-3993c3b456ed",
        "colab": {
          "base_uri": "https://localhost:8080/",
          "height": 257
        }
      },
      "source": [
        "def imshow(img):\n",
        "    img = img / 2 + 0.5     # unnormalize\n",
        "    npimg = img.numpy()\n",
        "    plt.imshow(np.transpose(npimg, (1, 2, 0)))\n",
        "    plt.show()\n",
        "\n",
        "\n",
        "# get some random training images\n",
        "dataiter = iter(validloader)\n",
        "images, labels = dataiter.next()\n",
        "\n",
        "# show images\n",
        "imshow(torchvision.utils.make_grid(images))\n",
        "# print labels\n",
        "print('\\t'.join('%5s' % classes[labels[j]] for j in range(batch_size)))"
      ],
      "execution_count": 0,
      "outputs": [
        {
          "output_type": "display_data",
          "data": {
            "image/png": "[encoded data removed]",
            "text/plain": [
              "<Figure size 432x288 with 1 Axes>"
            ]
          },
          "metadata": {
            "tags": []
          }
        },
        {
          "output_type": "stream",
          "text": [
            "horse\t deer\tplane\tplane\t ship\t  dog\t  cat\t frog\t  car\t bird\t ship\t deer\t  car\t ship\t  car\ttruck\t bird\t  cat\tplane\tplane\t ship\t frog\t frog\ttruck\t  dog\t bird\t frog\t ship\thorse\t  dog\t  cat\thorse\n"
          ],
          "name": "stdout"
        }
      ]
    },
    {
      "cell_type": "markdown",
      "metadata": {
        "id": "-VAUL8ZkoKPw",
        "colab_type": "text"
      },
      "source": [
        "## Model"
      ]
    },
    {
      "cell_type": "markdown",
      "metadata": {
        "id": "o-Su2BI5Zw_c",
        "colab_type": "text"
      },
      "source": [
        "### simple CNN"
      ]
    },
    {
      "cell_type": "code",
      "metadata": {
        "id": "oNiBcg-QkYzu",
        "colab_type": "code",
        "colab": {}
      },
      "source": [
        "class CNN(nn.Module):\n",
        "    def __init__(self):\n",
        "        super(CNN, self).__init__()\n",
        "        self.conv1 = nn.Conv2d(3, 6, 5)\n",
        "        self.pool = nn.MaxPool2d(2, 2)\n",
        "        self.conv2 = nn.Conv2d(6, 16, 5)\n",
        "        self.fc1 = nn.Linear(16 * 5 * 5, 120)\n",
        "        self.fc2 = nn.Linear(120, 84)\n",
        "        self.fc3 = nn.Linear(84, 10)\n",
        "\n",
        "    def forward(self, x):\n",
        "        x = self.pool(F.relu(self.conv1(x)))\n",
        "        x = self.pool(F.relu(self.conv2(x)))\n",
        "        x = x.view(-1, 16 * 5 * 5)\n",
        "        x = F.relu(self.fc1(x))\n",
        "        x = F.relu(self.fc2(x))\n",
        "        x = self.fc3(x)\n",
        "        return x"
      ],
      "execution_count": 0,
      "outputs": []
    },
    {
      "cell_type": "markdown",
      "metadata": {
        "id": "rmQgQwlwIGyW",
        "colab_type": "text"
      },
      "source": [
        "### AlexNet"
      ]
    },
    {
      "cell_type": "code",
      "metadata": {
        "id": "xMRMEdc6IJN6",
        "colab_type": "code",
        "colab": {}
      },
      "source": [
        "class AlexNet(nn.Module):\n",
        "    def __init__(self, num_classes):\n",
        "        super(AlexNet, self).__init__()\n",
        "        self.features = nn.Sequential(\n",
        "            nn.Conv2d(3, 24, 3, padding=1),  # Conv1\n",
        "            nn.ReLU(inplace=True),\n",
        "            nn.MaxPool2d(2, 2),  # Pool1\n",
        "            nn.Conv2d(24, 96, 3, padding=1),  # Conv2\n",
        "            nn.ReLU(inplace=True),\n",
        "            nn.MaxPool2d(2, 2),  # Pool2\n",
        "            nn.Conv2d(96, 192, 3, padding=1),  # Conv3\n",
        "            nn.ReLU(inplace=True),\n",
        "            nn.Conv2d(192, 192, 3, padding=1),  # Conv4\n",
        "            nn.ReLU(inplace=True),\n",
        "            nn.Conv2d(192, 96, 3, padding=1),  # Conv5\n",
        "            nn.ReLU(inplace=True),\n",
        "            nn.MaxPool2d(2, 2),  # Pool3\n",
        "        )\n",
        "        self.classifier = nn.Sequential(\n",
        "            nn.Dropout(),\n",
        "            nn.Linear(96 * 4 * 4, 1024),\n",
        "            nn.ReLU(inplace=True),\n",
        "            nn.Dropout(),\n",
        "            nn.Linear(1024, 1024),\n",
        "            nn.ReLU(inplace=True),\n",
        "            nn.Linear(1024, num_classes),\n",
        "        )\n",
        "\n",
        "    def forward(self, x):\n",
        "        x = self.features(x)\n",
        "        x = x.view(x.size(0), 96 * 4 * 4) \n",
        "        x = self.classifier(x)\n",
        "        return x"
      ],
      "execution_count": 0,
      "outputs": []
    },
    {
      "cell_type": "markdown",
      "metadata": {
        "id": "KFUdCfE9oOwh",
        "colab_type": "text"
      },
      "source": [
        "## Train"
      ]
    },
    {
      "cell_type": "code",
      "metadata": {
        "id": "P31TyRm2tcgN",
        "colab_type": "code",
        "colab": {}
      },
      "source": [
        "import math\n",
        "\n",
        "def time_since(since):\n",
        "    s = time.time() - since\n",
        "    m = math.floor(s / 60)\n",
        "    s -= m * 60\n",
        "    return '%dm %ds' % (m, s)\n",
        "\n",
        "\n",
        "def model_step(model, optimizer, criterion, inputs, labels):\n",
        "    outputs = model(inputs)\n",
        "    loss = criterion(outputs, labels)\n",
        "\n",
        "    if model.training:\n",
        "        optimizer.zero_grad()\n",
        "        loss.backward(retain_graph=True)\n",
        "    if optimizer.__class__.__name__ != 'SUG':\n",
        "        optimizer.step()\n",
        "    else:\n",
        "        def closure():\n",
        "            optimizer.zero_grad()\n",
        "            upd_outputs = model(inputs)\n",
        "            upd_loss = criterion(upd_outputs, labels).item()\n",
        "\n",
        "            return upd_loss\n",
        "\n",
        "        optimizer.step(loss.item(), closure)\n",
        "\n",
        "    return loss.item()"
      ],
      "execution_count": 0,
      "outputs": []
    },
    {
      "cell_type": "code",
      "metadata": {
        "id": "ECO6k5-xkzl1",
        "colab_type": "code",
        "colab": {}
      },
      "source": [
        "def train(model, trainloader, criterion, optimizer, n_epochs=2, validloader=None, eps=1e-5, print_every=1):\n",
        "    tr_loss, val_loss, lips, times, grad, acc = ([] for i in range(6))\n",
        "    start_time = time.time()\n",
        "    model.to(device=device)\n",
        "    for ep in range(n_epochs):\n",
        "        model.train()\n",
        "        i = 0\n",
        "        for i, data in enumerate(trainloader):\n",
        "            inputs, labels = data\n",
        "            inputs, labels = Variable(inputs).to(device=device), Variable(labels).to(device=device)\n",
        "\n",
        "            tr_loss.append(model_step(model, optimizer, criterion, inputs, labels))\n",
        "            if optimizer.__class__.__name__ == 'SUG':\n",
        "                lips.append(optimizer.get_lipsitz_const())\n",
        "                grad.append(optimizer.get_sq_grad)\n",
        "        times.append(time_since(start_time))\n",
        "        if ep % print_every == 0:\n",
        "            print(\"Epoch {}, training loss {}, time passed {}\".format(ep, sum(tr_loss[-i:]) / i, time_since(start_time)))\n",
        "\n",
        "        if validloader is None:\n",
        "            continue\n",
        "        model.zero_grad()\n",
        "        model.eval()\n",
        "        j = 0\n",
        "        count = 0\n",
        "        n_ex = 0\n",
        "        for j, data in enumerate(validloader):\n",
        "            inputs, labels = data\n",
        "            inputs, labels = inputs.to(device=device), labels.to(device=device)\n",
        "            outputs = model(inputs)\n",
        "            #outputs_lab = torch.argmax(outputs, 1)\n",
        "            count += (torch.argmax(outputs, 1) == labels).float().sum().item()\n",
        "            n_ex += outputs.size(0) \n",
        "            val_loss.append(criterion(outputs, labels).item())\n",
        "        acc.append(count / n_ex)\n",
        "        if ep % print_every == 0:\n",
        "            print(\"Validation loss {}, validation accuracy {}\".format(sum(val_loss[-j:]) / j, acc[-1]))\n",
        "        \n",
        "    return tr_loss, times, val_loss, lips, grad, acc"
      ],
      "execution_count": 0,
      "outputs": []
    },
    {
      "cell_type": "code",
      "metadata": {
        "id": "wX-aY0Qmi3NP",
        "colab_type": "code",
        "colab": {}
      },
      "source": [
        "def concat_states(state1, state2):\n",
        "    states = {\n",
        "            'epoch': state1['epoch'] + state2['epoch'],\n",
        "            'state_dict': state2['state_dict'],\n",
        "            'optimizer': state2['optimizer'],\n",
        "            'tr_loss' : state1['tr_loss'] + state2['tr_loss'],\n",
        "            'val_loss' : state1['val_loss'] + state2['val_loss'],\n",
        "            'lips' : state1['lips'] + state2['lips'],\n",
        "            'grad' : state1['grad'] + state2['grad'],\n",
        "            'times' : state1['times'] + list(map(lambda x: x + state1['times'][-1],state2['times']))\n",
        "             }\n",
        "    return states"
      ],
      "execution_count": 0,
      "outputs": []
    },
    {
      "cell_type": "code",
      "metadata": {
        "id": "LZrx1G-ykasC",
        "colab_type": "code",
        "outputId": "2cf13d01-08d3-422c-d93b-47ad5631fc49",
        "colab": {
          "base_uri": "https://localhost:8080/",
          "height": 34
        }
      },
      "source": [
        "print_every = 4\n",
        "n_epochs = 20\n",
        "tr_loss = {}\n",
        "tr_loss['sgd'] = {}\n",
        "val_loss = {}\n",
        "val_loss['sgd'] = {}\n",
        "lrs = [0.001, 0.005]\n",
        "criterion = nn.CrossEntropyLoss(reduction=\"mean\")\n",
        "torch.manual_seed(999)"
      ],
      "execution_count": 0,
      "outputs": [
        {
          "output_type": "execute_result",
          "data": {
            "text/plain": [
              "<torch._C.Generator at 0x7f70559a3830>"
            ]
          },
          "metadata": {
            "tags": []
          },
          "execution_count": 16
        }
      ]
    },
    {
      "cell_type": "code",
      "metadata": {
        "id": "XgkvXkyyWR5b",
        "colab_type": "code",
        "outputId": "418527a6-d00d-4c4d-9414-1728e5e7759b",
        "colab": {
          "base_uri": "https://localhost:8080/",
          "height": 391
        }
      },
      "source": [
        "for lr in lrs:\n",
        "  #model = AlexNet(10)\n",
        "  model = CNN()\n",
        "  print(\"SGD  lr={}, momentum=0. :\".format(lr))\n",
        "  #model = CNN()\n",
        "  optimizer = optim.SGD(model.parameters(), lr=lr, momentum=0., weight_decay=1e-3)\n",
        "  tr_loss['sgd'][lr], times, val_loss['sgd'][lr], lips, grad, acc = train(model, trainloader, criterion, optimizer, n_epochs=n_epochs, print_every=print_every, validloader=validloader)\n",
        "  states = {\n",
        "            'epoch': n_epochs,\n",
        "            'state_dict': model.state_dict(),\n",
        "            'optimizer': optimizer.state_dict(),\n",
        "            'tr_loss' : tr_loss['sgd'][lr],\n",
        "            'val_loss' : val_loss['sgd'][lr],\n",
        "            'lips' : lips,\n",
        "            'grad' : grad,\n",
        "            'times' : times,\n",
        "            'acc' : acc\n",
        "             }\n",
        "  torch.save(states, './CIFAR10/cnn_' + str(lr))"
      ],
      "execution_count": 0,
      "outputs": [
        {
          "output_type": "stream",
          "text": [
            "SGD  lr=0.001, momentum=0. :\n"
          ],
          "name": "stdout"
        },
        {
          "output_type": "stream",
          "text": [
            "\r170500096it [00:50, 6067495.74it/s]                               "
          ],
          "name": "stderr"
        },
        {
          "output_type": "stream",
          "text": [
            "Epoch 0, training loss 2.3046078457530723, time passed 0m 15s\n",
            "Validation loss 2.303295273047227, validation accuracy 0.09986666666666667\n",
            "Epoch 4, training loss 2.301139187740992, time passed 1m 0s\n",
            "Validation loss 2.300287951771011, validation accuracy 0.10066666666666667\n",
            "Epoch 8, training loss 2.294662985816059, time passed 1m 43s\n",
            "Validation loss 2.2926147259198704, validation accuracy 0.18186666666666668\n",
            "Epoch 12, training loss 2.198111739952162, time passed 2m 27s\n",
            "Validation loss 2.156626744148059, validation accuracy 0.23386666666666667\n",
            "Epoch 16, training loss 1.946737550558096, time passed 3m 10s\n",
            "Validation loss 1.926912954220405, validation accuracy 0.29786666666666667\n",
            "SGD  lr=0.005, momentum=0. :\n",
            "Epoch 0, training loss 2.30141891467284, time passed 0m 8s\n",
            "Validation loss 2.298534059116983, validation accuracy 0.14586666666666667\n",
            "Epoch 4, training loss 1.7342122878475361, time passed 0m 52s\n",
            "Validation loss 2.03933955104942, validation accuracy 0.30773333333333336\n",
            "Epoch 8, training loss 1.4671413745865765, time passed 1m 33s\n",
            "Validation loss 1.5293442882024324, validation accuracy 0.44293333333333335\n",
            "Epoch 12, training loss 1.3092263472457248, time passed 2m 18s\n",
            "Validation loss 1.4698136387727199, validation accuracy 0.47053333333333336\n",
            "Epoch 16, training loss 1.1882751475436142, time passed 2m 59s\n",
            "Validation loss 1.2870378331241445, validation accuracy 0.532\n"
          ],
          "name": "stdout"
        }
      ]
    },
    {
      "cell_type": "code",
      "metadata": {
        "id": "6Q0QcJEGWgVO",
        "colab_type": "code",
        "outputId": "9bfa8709-68d7-4925-93e4-82bcce8587e4",
        "colab": {
          "base_uri": "https://localhost:8080/",
          "height": 391
        }
      },
      "source": [
        "for lr in lrs:\n",
        "  #model = AlexNet(10)\n",
        "  model = CNN()\n",
        "  print(\"SGD  lr={}, momentum=0. :\".format(lr))\n",
        "  #model = CNN()\n",
        "  optimizer = optim.SGD(model.parameters(), lr=lr, momentum=0., weight_decay=1e-3)\n",
        "  tr_loss['sgd'][lr], times, val_loss['sgd'][lr], lips, grad, acc = train(model, trainloader, criterion, optimizer, n_epochs=n_epochs, print_every=print_every, validloader=validloader)\n",
        "  states = {\n",
        "            'epoch': n_epochs,\n",
        "            'state_dict': model.state_dict(),\n",
        "            'optimizer': optimizer.state_dict(),\n",
        "            'tr_loss' : tr_loss['sgd'][lr],\n",
        "            'val_loss' : val_loss['sgd'][lr],\n",
        "            'lips' : lips,\n",
        "            'grad' : grad,\n",
        "            'times' : times,\n",
        "            'acc' : acc\n",
        "             }\n",
        "  torch.save(states, './CIFAR10/cnn_' + str(lr))"
      ],
      "execution_count": 0,
      "outputs": [
        {
          "output_type": "stream",
          "text": [
            "SGD  lr=0.001, momentum=0. :\n",
            "Epoch 0, training loss 2.3033256399703315, time passed 0m 8s\n",
            "Validation loss 2.3029774947044177, validation accuracy 0.09786666666666667\n",
            "Epoch 4, training loss 2.2995248004255524, time passed 0m 49s\n",
            "Validation loss 2.2990700179695063, validation accuracy 0.10426666666666666\n",
            "Epoch 8, training loss 2.2841472835784935, time passed 1m 33s\n",
            "Validation loss 2.277648075014098, validation accuracy 0.15453333333333333\n",
            "Epoch 12, training loss 2.108142703232995, time passed 2m 14s\n",
            "Validation loss 2.0859479858325076, validation accuracy 0.2614666666666667\n",
            "Epoch 16, training loss 1.9108273721782558, time passed 2m 58s\n",
            "Validation loss 1.9045408444526868, validation accuracy 0.31706666666666666\n",
            "SGD  lr=0.005, momentum=0. :\n",
            "Epoch 0, training loss 2.302613575056375, time passed 0m 9s\n",
            "Validation loss 2.3004075064618363, validation accuracy 0.10266666666666667\n",
            "Epoch 4, training loss 1.7911202294460262, time passed 0m 52s\n",
            "Validation loss 1.7926278577910528, validation accuracy 0.34626666666666667\n",
            "Epoch 8, training loss 1.4683636813817253, time passed 1m 38s\n",
            "Validation loss 1.4796606541698814, validation accuracy 0.45413333333333333\n",
            "Epoch 12, training loss 1.3114965439112072, time passed 2m 19s\n",
            "Validation loss 1.3331867509927504, validation accuracy 0.5145333333333333\n",
            "Epoch 16, training loss 1.198975688362696, time passed 3m 3s\n",
            "Validation loss 1.2961173296993613, validation accuracy 0.5386666666666666\n"
          ],
          "name": "stdout"
        }
      ]
    },
    {
      "cell_type": "code",
      "metadata": {
        "id": "hAZ4zdE2WU9k",
        "colab_type": "code",
        "outputId": "2f95379a-747c-4f02-cd6a-d4107bd6b88f",
        "colab": {
          "base_uri": "https://localhost:8080/",
          "height": 187
        }
      },
      "source": [
        "model = CNN()\n",
        "#n_epochs = 4\n",
        "l_0 = 10\n",
        "optimizer = SUG(model.parameters(), l_0=l_0, momentum=0., weight_decay=1e-3)\n",
        "tr_loss['sug'], times, val_loss['sug'], lips, grad, acc = train(model, trainloader, criterion, optimizer, n_epochs=n_epochs, print_every=print_every, validloader=validloader)\n",
        "states = {\n",
        "            'epoch': n_epochs,\n",
        "            'state_dict': model.state_dict(),\n",
        "            'optimizer': optimizer.state_dict(),\n",
        "            'tr_loss' : tr_loss['sug'],\n",
        "            'val_loss' : val_loss['sug'],\n",
        "            'lips' : lips,\n",
        "            'grad' : grad,\n",
        "            'times' : times,\n",
        "            'acc' : acc\n",
        "        }\n",
        "torch.save(states, './CIFAR10/cnn_sug')"
      ],
      "execution_count": 0,
      "outputs": [
        {
          "output_type": "stream",
          "text": [
            "\r170500096it [00:40, 7490036.30it/s]                               "
          ],
          "name": "stderr"
        },
        {
          "output_type": "stream",
          "text": [
            "Epoch 0, training loss 1.7287127760698997, time passed 0m 18s\n",
            "Validation loss 1.5798041545427763, validation accuracy 0.4128\n",
            "Epoch 4, training loss 1.1760990708078964, time passed 1m 25s\n",
            "Validation loss 1.2566284550051403, validation accuracy 0.5497333333333333\n",
            "Epoch 8, training loss 0.9532181326614086, time passed 2m 31s\n",
            "Validation loss 1.1652924087312486, validation accuracy 0.5942666666666667\n",
            "Epoch 12, training loss 0.8039256114602448, time passed 3m 39s\n",
            "Validation loss 1.0796798959247067, validation accuracy 0.6341333333333333\n",
            "Epoch 16, training loss 0.6847569455044815, time passed 4m 48s\n",
            "Validation loss 1.066927704291466, validation accuracy 0.6490666666666667\n"
          ],
          "name": "stdout"
        }
      ]
    },
    {
      "cell_type": "code",
      "metadata": {
        "id": "Ixg3JYwdLm_2",
        "colab_type": "code",
        "outputId": "a8e3d423-2b9e-4a5b-ce95-0ec5014157ad",
        "colab": {
          "base_uri": "https://localhost:8080/",
          "height": 391
        }
      },
      "source": [
        "for lr in lrs:\n",
        "  #model = AlexNet(10)\n",
        "  model = CNN()\n",
        "  print(\"SGD  lr={}, momentum=0.9 :\".format(lr))\n",
        "  #model = CNN()\n",
        "  optimizer = optim.SGD(model.parameters(), lr=lr, momentum=0.9, weight_decay=1e-3)\n",
        "  tr_loss['sgd'][lr], times, val_loss['sgd'][lr], lips, grad, acc = train(model, trainloader, criterion, optimizer, n_epochs=n_epochs, print_every=print_every, validloader=validloader)\n",
        "  states = {\n",
        "            'epoch': n_epochs,\n",
        "            'state_dict': model.state_dict(),\n",
        "            'optimizer': optimizer.state_dict(),\n",
        "            'tr_loss' : tr_loss['sgd'][lr],\n",
        "            'val_loss' : val_loss['sgd'][lr],\n",
        "            'lips' : lips,\n",
        "            'grad' : grad,\n",
        "            'times' : times,\n",
        "            'acc' : acc\n",
        "             }\n",
        "  torch.save(states, './CIFAR10/cnn_' + str(lr)+'_0.9')"
      ],
      "execution_count": 0,
      "outputs": [
        {
          "output_type": "stream",
          "text": [
            "SGD  lr=0.001, momentum=0.9 :\n",
            "Epoch 0, training loss 2.2413963797580765, time passed 0m 9s\n",
            "Validation loss 2.047213161093557, validation accuracy 0.2636\n",
            "Epoch 4, training loss 1.4543043402842728, time passed 0m 56s\n",
            "Validation loss 1.4251962795726254, validation accuracy 0.4765333333333333\n",
            "Epoch 8, training loss 1.2309847575084991, time passed 1m 43s\n",
            "Validation loss 1.2635090781582727, validation accuracy 0.5481333333333334\n",
            "Epoch 12, training loss 1.0850616734340248, time passed 2m 30s\n",
            "Validation loss 1.146678028962551, validation accuracy 0.5938666666666667\n",
            "Epoch 16, training loss 0.9695697107004473, time passed 3m 18s\n",
            "Validation loss 1.0880737001569862, validation accuracy 0.6208\n",
            "SGD  lr=0.005, momentum=0.9 :\n",
            "Epoch 0, training loss 1.9004747491464558, time passed 0m 9s\n",
            "Validation loss 1.7008630414294381, validation accuracy 0.3910666666666667\n",
            "Epoch 4, training loss 1.1192579835384007, time passed 0m 54s\n",
            "Validation loss 1.147972180802598, validation accuracy 0.5872\n",
            "Epoch 8, training loss 0.9187869095883097, time passed 1m 41s\n",
            "Validation loss 1.2576614694717603, validation accuracy 0.5797333333333333\n",
            "Epoch 12, training loss 0.7934493863708284, time passed 2m 28s\n",
            "Validation loss 1.0737906472805219, validation accuracy 0.6325333333333333\n",
            "Epoch 16, training loss 0.7099852131634771, time passed 3m 14s\n",
            "Validation loss 1.1335014709804812, validation accuracy 0.6324\n"
          ],
          "name": "stdout"
        }
      ]
    },
    {
      "cell_type": "code",
      "metadata": {
        "id": "tOIt6e2RJHdp",
        "colab_type": "code",
        "outputId": "003b9ba9-49a0-4583-8f91-2e98f453c772",
        "colab": {
          "base_uri": "https://localhost:8080/",
          "height": 187
        }
      },
      "source": [
        "model = CNN()\n",
        "#n_epochs = 4\n",
        "l_0 = 10\n",
        "optimizer = SUG(model.parameters(), l_0=l_0, momentum=0.9, weight_decay=1e-3)\n",
        "tr_loss['sug'], times, val_loss['sug'], lips, grad, acc = train(model, trainloader, criterion, optimizer, n_epochs=n_epochs, print_every=print_every, validloader=validloader)\n",
        "states = {\n",
        "            'epoch': n_epochs,\n",
        "            'state_dict': model.state_dict(),\n",
        "            'optimizer': optimizer.state_dict(),\n",
        "            'tr_loss' : tr_loss['sug'],\n",
        "            'val_loss' : val_loss['sug'],\n",
        "            'lips' : lips,\n",
        "            'grad' : grad,\n",
        "            'times' : times,\n",
        "            'acc' : acc\n",
        "        }\n",
        "torch.save(states, './CIFAR10/cnn_sug_0.9')"
      ],
      "execution_count": 0,
      "outputs": [
        {
          "output_type": "stream",
          "text": [
            "Epoch 0, training loss 2.0249016348676507, time passed 0m 15s\n",
            "Validation loss 1.9214284949832492, validation accuracy 0.2730666666666667\n",
            "Epoch 4, training loss 1.7294441840375763, time passed 1m 24s\n",
            "Validation loss 1.7247315156154144, validation accuracy 0.3506666666666667\n",
            "Epoch 8, training loss 1.6675567831619675, time passed 2m 33s\n",
            "Validation loss 1.660256328745785, validation accuracy 0.3816\n",
            "Epoch 12, training loss 1.6189166610858527, time passed 3m 47s\n",
            "Validation loss 1.6111215139046693, validation accuracy 0.39266666666666666\n",
            "Epoch 16, training loss 1.562051878636142, time passed 4m 57s\n",
            "Validation loss 1.56002251816611, validation accuracy 0.4196\n"
          ],
          "name": "stdout"
        }
      ]
    },
    {
      "cell_type": "code",
      "metadata": {
        "id": "0ynPpz-CFbk3",
        "colab_type": "code",
        "colab": {}
      },
      "source": [
        "n_epochs = 30"
      ],
      "execution_count": 0,
      "outputs": []
    },
    {
      "cell_type": "code",
      "metadata": {
        "id": "mMkBPTv7-39y",
        "colab_type": "code",
        "outputId": "cfc62532-f978-491a-8d36-d4eea886e80f",
        "colab": {
          "base_uri": "https://localhost:8080/",
          "height": 595
        }
      },
      "source": [
        "n_epochs = 30\n",
        "\n",
        "for lr in lrs:\n",
        "  model = AlexNet(10)\n",
        "  #model = CNN()\n",
        "  print(\"SGD  lr={}, momentum=0.9 :\".format(lr))\n",
        "  #model = CNN()\n",
        "  optimizer = optim.SGD(model.parameters(), lr=lr, momentum=0.9, weight_decay=1e-3)\n",
        "  tr_loss['sgd'][lr], times, val_loss['sgd'][lr], lips, grad, acc = train(model, trainloader, criterion, optimizer, n_epochs=n_epochs, print_every=print_every, validloader=validloader)\n",
        "  states = {\n",
        "            'epoch': n_epochs,\n",
        "            'state_dict': model.state_dict(),\n",
        "            'optimizer': optimizer.state_dict(),\n",
        "            'tr_loss' : tr_loss['sgd'][lr],\n",
        "            'val_loss' : val_loss['sgd'][lr],\n",
        "            'lips' : lips,\n",
        "            'grad' : grad,\n",
        "            'times' : times,\n",
        "            'acc' : acc\n",
        "             }\n",
        "  torch.save(states, './CIFAR10/alexnet_' + str(lr)+'_0.9')"
      ],
      "execution_count": 0,
      "outputs": [
        {
          "output_type": "stream",
          "text": [
            "SGD  lr=0.001, momentum=0.9 :\n",
            "Epoch 0, training loss 2.30262310928609, time passed 0m 12s\n",
            "Validation loss 2.302406350771586, validation accuracy 0.09613333333333333\n",
            "Epoch 4, training loss 1.9233037017914185, time passed 1m 7s\n",
            "Validation loss 1.795741380789341, validation accuracy 0.32466666666666666\n",
            "Epoch 8, training loss 1.5064488498561353, time passed 2m 2s\n",
            "Validation loss 1.435322539673911, validation accuracy 0.4629333333333333\n",
            "Epoch 12, training loss 1.2342443373727512, time passed 2m 58s\n",
            "Validation loss 1.1426196865036957, validation accuracy 0.5796\n",
            "Epoch 16, training loss 1.0220994622368051, time passed 3m 51s\n",
            "Validation loss 1.0097333478112507, validation accuracy 0.6316\n",
            "Epoch 20, training loss 0.8725613497018095, time passed 4m 46s\n",
            "Validation loss 0.8407612826324936, validation accuracy 0.6990666666666666\n",
            "Epoch 24, training loss 0.757881903953581, time passed 5m 43s\n",
            "Validation loss 0.770922051408352, validation accuracy 0.7288\n",
            "Epoch 28, training loss 0.6628517944769687, time passed 6m 36s\n",
            "Validation loss 0.713519621353883, validation accuracy 0.75\n",
            "SGD  lr=0.005, momentum=0.9 :\n",
            "Epoch 0, training loss 2.3013343358614358, time passed 0m 11s\n",
            "Validation loss 2.272929388233739, validation accuracy 0.1752\n",
            "Epoch 4, training loss 1.2012391400534705, time passed 1m 5s\n",
            "Validation loss 1.066346265311934, validation accuracy 0.6158666666666667\n",
            "Epoch 8, training loss 0.8006648439240743, time passed 1m 58s\n",
            "Validation loss 0.7861595646693156, validation accuracy 0.7256\n",
            "Epoch 12, training loss 0.5901236254048635, time passed 2m 54s\n",
            "Validation loss 0.720253175840928, validation accuracy 0.7509333333333333\n",
            "Epoch 16, training loss 0.4623109918390681, time passed 3m 49s\n",
            "Validation loss 0.601919883559657, validation accuracy 0.7950666666666667\n",
            "Epoch 20, training loss 0.35417105389916037, time passed 4m 42s\n",
            "Validation loss 0.7328792033223515, validation accuracy 0.7626666666666667\n",
            "Epoch 24, training loss 0.26902509217588116, time passed 5m 36s\n",
            "Validation loss 0.6470244179487737, validation accuracy 0.802\n",
            "Epoch 28, training loss 0.22479642242058573, time passed 6m 30s\n",
            "Validation loss 0.6493660968083602, validation accuracy 0.8110666666666667\n"
          ],
          "name": "stdout"
        }
      ]
    },
    {
      "cell_type": "code",
      "metadata": {
        "id": "NwecxABrKwrb",
        "colab_type": "code",
        "colab": {}
      },
      "source": [
        "model = AlexNet(10)\n",
        "#n_epochs = 4\n",
        "l_0 = 10\n",
        "optimizer = SUG(model.parameters(), l_0=l_0, momentum=0.9, weight_decay=1e-3)\n",
        "tr_loss['sug'], times, val_loss['sug'], lips, grad, acc = train(model, trainloader, criterion, optimizer, n_epochs=n_epochs, print_every=print_every, validloader=validloader)\n",
        "states = {\n",
        "            'epoch': n_epochs,\n",
        "            'state_dict': model.state_dict(),\n",
        "            'optimizer': optimizer.state_dict(),\n",
        "            'tr_loss' : tr_loss['sug'],\n",
        "            'val_loss' : val_loss['sug'],\n",
        "            'lips' : lips,\n",
        "            'grad' : grad,\n",
        "            'times' : times,\n",
        "            'acc' : acc\n",
        "        }\n",
        "torch.save(states, './CIFAR10/alexnet_sug_0.9')"
      ],
      "execution_count": 0,
      "outputs": []
    },
    {
      "cell_type": "code",
      "metadata": {
        "id": "C-VvI5QWyVuD",
        "colab_type": "code",
        "colab": {}
      },
      "source": [
        "model = AlexNet(10)\n",
        "#n_epochs = 4\n",
        "l_0 = 10\n",
        "optimizer = SUG(model.parameters(), l_0=l_0, momentum=0., weight_decay=1e-3)\n",
        "tr_loss['sug'], times, val_loss['sug'], lips, grad, acc = train(model, trainloader, criterion, optimizer, n_epochs=n_epochs, print_every=print_every, validloader=validloader)\n",
        "states = {\n",
        "            'epoch': n_epochs,\n",
        "            'state_dict': model.state_dict(),\n",
        "            'optimizer': optimizer.state_dict(),\n",
        "            'tr_loss' : tr_loss['sug'],\n",
        "            'val_loss' : val_loss['sug'],\n",
        "            'lips' : lips,\n",
        "            'grad' : grad,\n",
        "            'times' : times,\n",
        "            'acc' : acc\n",
        "        }\n",
        "torch.save(states, './CIFAR10/alexnet_sug')"
      ],
      "execution_count": 0,
      "outputs": []
    },
    {
      "cell_type": "code",
      "metadata": {
        "id": "lMpe2-J1HT8e",
        "colab_type": "code",
        "colab": {}
      },
      "source": [
        "n_epochs = 30\n",
        "\n",
        "for lr in lrs:\n",
        "  model = AlexNet(10)\n",
        "  #model = CNN()\n",
        "  print(\"SGD  lr={}, momentum=0. :\".format(lr))\n",
        "  #model = CNN()\n",
        "  optimizer = optim.SGD(model.parameters(), lr=lr, momentum=0., weight_decay=1e-3)\n",
        "  tr_loss['sgd'][lr], times, val_loss['sgd'][lr], lips, grad, acc = train(model, trainloader, criterion, optimizer, n_epochs=n_epochs, print_every=print_every, validloader=validloader)\n",
        "  states = {\n",
        "            'epoch': n_epochs,\n",
        "            'state_dict': model.state_dict(),\n",
        "            'optimizer': optimizer.state_dict(),\n",
        "            'tr_loss' : tr_loss['sgd'][lr],\n",
        "            'val_loss' : val_loss['sgd'][lr],\n",
        "            'lips' : lips,\n",
        "            'grad' : grad,\n",
        "            'times' : times,\n",
        "            'acc' : acc\n",
        "             }\n",
        "  torch.save(states, './CIFAR10/alexnet_' + str(lr)+'_')"
      ],
      "execution_count": 0,
      "outputs": []
    },
    {
      "cell_type": "code",
      "metadata": {
        "id": "2PP_mXBJLcet",
        "colab_type": "code",
        "colab": {}
      },
      "source": [
        ""
      ],
      "execution_count": 0,
      "outputs": []
    }
  ]
}