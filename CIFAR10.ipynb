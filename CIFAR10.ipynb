{
  "nbformat": 4,
  "nbformat_minor": 0,
  "metadata": {
    "colab": {
      "name": "CIFAR10.ipynb",
      "version": "0.3.2",
      "provenance": [],
      "collapsed_sections": [],
      "include_colab_link": true
    },
    "kernelspec": {
      "name": "python3",
      "display_name": "Python 3"
    },
    "accelerator": "GPU"
  },
  "cells": [
    {
      "cell_type": "markdown",
      "metadata": {
        "id": "view-in-github",
        "colab_type": "text"
      },
      "source": [
        "<a href=\"https://colab.research.google.com/github/sverdoot/optimizer-SUG-torch/blob/master/CIFAR10.ipynb\" target=\"_parent\"><img src=\"https://colab.research.google.com/assets/colab-badge.svg\" alt=\"Open In Colab\"/></a>"
      ]
    },
    {
      "metadata": {
        "id": "EToBGXtFYWgd",
        "colab_type": "code",
        "outputId": "f0eed518-ad7a-433c-c3aa-5e9b7bbc520a",
        "colab": {
          "base_uri": "https://localhost:8080/",
          "height": 122
        }
      },
      "cell_type": "code",
      "source": [
        "from google.colab import drive\n",
        "drive.mount('/content/drive')"
      ],
      "execution_count": 2,
      "outputs": [
        {
          "output_type": "stream",
          "text": [
            "Go to this URL in a browser: https://accounts.google.com/o/oauth2/auth?client_id=947318989803-6bn6qk8qdgf4n4g3pfee6491hc0brc4i.apps.googleusercontent.com&redirect_uri=urn%3Aietf%3Awg%3Aoauth%3A2.0%3Aoob&scope=email%20https%3A%2F%2Fwww.googleapis.com%2Fauth%2Fdocs.test%20https%3A%2F%2Fwww.googleapis.com%2Fauth%2Fdrive%20https%3A%2F%2Fwww.googleapis.com%2Fauth%2Fdrive.photos.readonly%20https%3A%2F%2Fwww.googleapis.com%2Fauth%2Fpeopleapi.readonly&response_type=code\n",
            "\n",
            "Enter your authorization code:\n",
            "··········\n",
            "Mounted at /content/drive\n"
          ],
          "name": "stdout"
        }
      ]
    },
    {
      "metadata": {
        "id": "wbKsgAwNYVjZ",
        "colab_type": "code",
        "colab": {
          "base_uri": "https://localhost:8080/",
          "height": 34
        },
        "outputId": "065df4ce-8561-4773-90f9-02db9da6a783"
      },
      "cell_type": "code",
      "source": [
        "import os\n",
        "os.chdir(\"/content/drive/My Drive/Colab Notebooks/Optimization project\")\n",
        "os.getcwd()"
      ],
      "execution_count": 3,
      "outputs": [
        {
          "output_type": "execute_result",
          "data": {
            "text/plain": [
              "'/content/drive/My Drive/Colab Notebooks/Optimization project'"
            ]
          },
          "metadata": {
            "tags": []
          },
          "execution_count": 3
        }
      ]
    },
    {
      "metadata": {
        "id": "WzdgtdRZYfbD",
        "colab_type": "code",
        "colab": {}
      },
      "cell_type": "code",
      "source": [
        "from sug import SUG\n",
        "from usage import time_since\n",
        "from usage import model_step"
      ],
      "execution_count": 0,
      "outputs": []
    },
    {
      "metadata": {
        "id": "_7sdNwaj6hm8",
        "colab_type": "code",
        "colab": {}
      },
      "cell_type": "code",
      "source": [
        "import torch\n",
        "from torch.optim import Optimizer\n",
        "import math\n",
        "\n",
        "\n",
        "class SUG(Optimizer):\n",
        "    def __init__(self, params, l_0, d_0=0, prob=1., eps=1e-3, momentum=0, dampening=0,\n",
        "                 weight_decay=0, nesterov=False):\n",
        "        if l_0 < 0.0:\n",
        "            raise ValueError(\"Invalid Lipsitz constant of gradient: {}\".format(l_0))\n",
        "        if d_0 < 0.0:\n",
        "            raise ValueError(\"Invalid disperion of gradient: {}\".format(d_0))\n",
        "        if momentum < 0.0:\n",
        "            raise ValueError(\"Invalid momentum value: {}\".format(momentum))\n",
        "        if weight_decay < 0.0:\n",
        "            raise ValueError(\"Invalid weight_decay value: {}\".format(weight_decay))\n",
        "\n",
        "        defaults = dict(L=l_0, momentum=momentum, dampening=dampening,\n",
        "                        weight_decay=weight_decay, nesterov=nesterov)\n",
        "        if nesterov and (momentum <= 0 or dampening != 0):\n",
        "            raise ValueError(\"Nesterov momentum requires a momentum and zero dampening\")\n",
        "        self.Lips = l_0\n",
        "        self.prev_Lips = l_0\n",
        "        self.D_0 = d_0\n",
        "        self.eps = eps\n",
        "        self.prob = prob\n",
        "        self.start_param = params\n",
        "        self.loss = torch.tensor(0.)\n",
        "        self.closure = None\n",
        "        super(SUG, self).__init__(params, defaults)\n",
        "\n",
        "    def __setstate__(self, state):\n",
        "        super(SUG, self).__setstate__(state)\n",
        "        for group in self.param_groups:\n",
        "            group.setdefault('nesterov', False)\n",
        "\n",
        "    def comp_batch_size(self):\n",
        "        \"\"\"Returns optimal batch size for given d_0, eps and l_0;\n",
        "\n",
        "        \"\"\"\n",
        "        return math.ceil(2 * self.D_0 * self.eps / self.prev_Lips)\n",
        "\n",
        "    def step(self, loss, closure):\n",
        "        \"\"\"Performs a single optimization step.\n",
        "\n",
        "        Arguments:\n",
        "            loss : current loss\n",
        "\n",
        "            closure (callable, optional): A closure that reevaluates the model\n",
        "                and returns the loss.\n",
        "        \"\"\"\n",
        "        self.start_param = []\n",
        "        self.loss = loss\n",
        "        self.closure = closure\n",
        "        check = torch.bernoulli(torch.tensor(float(self.prob))).item()\n",
        "        # self.L = min(self.L / 2, 2)\n",
        "        for gr_idx, group in enumerate(self.param_groups):\n",
        "            # weight_decay = group['weight_decay']\n",
        "            momentum = group['momentum']\n",
        "            dampening = group['dampening']\n",
        "            nesterov = group['nesterov']\n",
        "\n",
        "            for p_idx, p in enumerate(group['params']):\n",
        "                if p.grad is None:\n",
        "                    continue\n",
        "                self.start_param.append({'data': p.data.clone(), 'grad': p.grad.data.clone()})\n",
        "                d_p = self.start_param[-1]['grad']\n",
        "                # p_ = self.start_param[-1]['data']\n",
        "                # if weight_decay != 0:\n",
        "                #    d_p.add_(weight_decay, p.data)\n",
        "                if momentum != 0:\n",
        "                    param_state = self.state[p]\n",
        "                    if 'momentum_buffer' not in param_state:\n",
        "                        buf = param_state['momentum_buffer'] = torch.zeros_like(p.data)\n",
        "                        buf.mul_(momentum).add_(d_p)\n",
        "                    else:\n",
        "                        buf = param_state['momentum_buffer']\n",
        "                        buf.mul_(momentum).add_(1 - dampening, d_p)\n",
        "                    if nesterov:\n",
        "                        d_p = d_p.add(momentum, buf)\n",
        "                    else:\n",
        "                        d_p = buf\n",
        "        i = 0\n",
        "        difference = -1\n",
        "        while difference < 0:\n",
        "            if check:\n",
        "                self.Lips = max(self.prev_Lips * 2 ** (i - 1), 2.)\n",
        "            for j, p in enumerate(self.start_param):\n",
        "                self.param_groups[0]['params'][j].data = p['data'] - 1 / (2 * self.Lips) * p['grad']\n",
        "            if check:\n",
        "                difference, upd_loss = self.stop_criteria()\n",
        "            else:\n",
        "                difference = 1\n",
        "            i += 1\n",
        "        self.prev_Lips = self.Lips\n",
        "\n",
        "        return self.Lips, i\n",
        "\n",
        "    def stop_criteria(self):\n",
        "        \"\"\"Checks if the Lipsitz constant of gradient is appropriate\n",
        "        \"\"\"\n",
        "        cur_loss = self.loss.item()\n",
        "        upd_loss = self.closure().item()\n",
        "        #linear_part, quadratic_part = 0, 0\n",
        "        delta = 0.\n",
        "        for j, p in enumerate(self.start_param):\n",
        "            #delta = (self.param_groups[0]['params'][j].data - p['data'])\n",
        "            #linear_part += torch.sum(p['grad'] * delta)\n",
        "            #quadratic_part += torch.sum(delta * delta)\n",
        "            delta += torch.sum(p['grad'] * p['grad'])\n",
        "        \"\"\" <g(x_k), w_k - x_k> + 2L_k / 2 ||x_k - w_k||^2 = - 1 / (2L_k)||g(x_k)||^2 + 1 / (4L_k)||g(x_k)||^2 = -1 / (4L_k)||g(x_k)||^2\n",
        "        \"\"\"\n",
        "        major =  cur_loss - 1 / (4 * self.Lips) * delta\n",
        "        #return cur_loss - upd_loss + linear_part + self.Lips * quadratic_part + self.eps / 10, upd_loss\n",
        "        return major - upd_loss + self.eps / 10, upd_loss\n",
        "\n",
        "    def get_lipsitz_const(self):\n",
        "        \"\"\" Returns current Lipsitz constant of the gradient of the loss function\n",
        "        \"\"\"\n",
        "        return self.Lips\n"
      ],
      "execution_count": 0,
      "outputs": []
    },
    {
      "metadata": {
        "id": "yjtZDmg7YmpZ",
        "colab_type": "code",
        "colab": {}
      },
      "cell_type": "code",
      "source": [
        "%matplotlib inline\n",
        "import torch\n",
        "from torch import nn\n",
        "from torch import optim\n",
        "from torch.autograd import Variable\n",
        "import time\n",
        "import pandas as pd\n",
        "import numpy as np"
      ],
      "execution_count": 0,
      "outputs": []
    },
    {
      "metadata": {
        "id": "7txImi-VYhOM",
        "colab_type": "code",
        "colab": {
          "base_uri": "https://localhost:8080/",
          "height": 34
        },
        "outputId": "44ce950e-3937-47a4-8071-344bffa28037"
      },
      "cell_type": "code",
      "source": [
        "device = torch.device(\"cuda:0\" if torch.cuda.is_available() else \"cpu\")\n",
        "\n",
        "device"
      ],
      "execution_count": 7,
      "outputs": [
        {
          "output_type": "execute_result",
          "data": {
            "text/plain": [
              "device(type='cuda', index=0)"
            ]
          },
          "metadata": {
            "tags": []
          },
          "execution_count": 7
        }
      ]
    },
    {
      "metadata": {
        "id": "mBA2Gv8ZqT1T",
        "colab_type": "text"
      },
      "cell_type": "markdown",
      "source": [
        "## Data"
      ]
    },
    {
      "metadata": {
        "id": "7KY5F5rRkMay",
        "colab_type": "code",
        "colab": {}
      },
      "cell_type": "code",
      "source": [
        "import torchvision\n",
        "import torchvision.transforms as transforms"
      ],
      "execution_count": 0,
      "outputs": []
    },
    {
      "metadata": {
        "id": "sS_wSA0-qV0w",
        "colab_type": "code",
        "colab": {}
      },
      "cell_type": "code",
      "source": [
        "batch_size = 4"
      ],
      "execution_count": 0,
      "outputs": []
    },
    {
      "metadata": {
        "id": "-LK93IAGkTlD",
        "colab_type": "code",
        "colab": {
          "base_uri": "https://localhost:8080/",
          "height": 51
        },
        "outputId": "d824e656-68ee-470a-8d1a-24519a11a17e"
      },
      "cell_type": "code",
      "source": [
        "transform = transforms.Compose(\n",
        "    [transforms.ToTensor(),\n",
        "     transforms.Normalize((0.5, 0.5, 0.5), (0.5, 0.5, 0.5))])\n",
        "\n",
        "trainset = torchvision.datasets.CIFAR10(root='./data', train=True,\n",
        "                                        download=True, transform=transform)\n",
        "trainloader = torch.utils.data.DataLoader(trainset, batch_size=batch_size,\n",
        "                                          shuffle=True, num_workers=2)\n",
        "\n",
        "testset = torchvision.datasets.CIFAR10(root='./data', train=False,\n",
        "                                       download=True, transform=transform)\n",
        "testloader = torch.utils.data.DataLoader(testset, batch_size=batch_size,\n",
        "                                         shuffle=False, num_workers=2)\n",
        "\n",
        "classes = ('plane', 'car', 'bird', 'cat',\n",
        "           'deer', 'dog', 'frog', 'horse', 'ship', 'truck')"
      ],
      "execution_count": 10,
      "outputs": [
        {
          "output_type": "stream",
          "text": [
            "Files already downloaded and verified\n",
            "Files already downloaded and verified\n"
          ],
          "name": "stdout"
        }
      ]
    },
    {
      "metadata": {
        "id": "8F1utozCkVnt",
        "colab_type": "code",
        "colab": {
          "base_uri": "https://localhost:8080/",
          "height": 51
        },
        "outputId": "c9968d91-44ed-4880-ada4-81eff5bac6ce"
      },
      "cell_type": "code",
      "source": [
        "transform = transforms.Compose(\n",
        "    [transforms.ToTensor(),\n",
        "     transforms.Normalize((0.5, 0.5, 0.5), (0.5, 0.5, 0.5))])\n",
        "\n",
        "trainset = torchvision.datasets.CIFAR10(root='./data', train=True,\n",
        "                                        download=True, transform=transform)\n",
        "trainloader = torch.utils.data.DataLoader(trainset, batch_size=4,\n",
        "                                          shuffle=True, num_workers=2)\n",
        "\n",
        "testset = torchvision.datasets.CIFAR10(root='./data', train=False,\n",
        "                                       download=True, transform=transform)\n",
        "testloader = torch.utils.data.DataLoader(testset, batch_size=4,\n",
        "                                         shuffle=False, num_workers=2)\n",
        "\n",
        "classes = ('plane', 'car', 'bird', 'cat',\n",
        "           'deer', 'dog', 'frog', 'horse', 'ship', 'truck')"
      ],
      "execution_count": 11,
      "outputs": [
        {
          "output_type": "stream",
          "text": [
            "Files already downloaded and verified\n",
            "Files already downloaded and verified\n"
          ],
          "name": "stdout"
        }
      ]
    },
    {
      "metadata": {
        "id": "4yhxBsWJGdsQ",
        "colab_type": "code",
        "colab": {
          "base_uri": "https://localhost:8080/",
          "height": 170
        },
        "outputId": "20ba7876-461a-4705-9235-6da6808a0520"
      },
      "cell_type": "code",
      "source": [
        "trainloader.dataset"
      ],
      "execution_count": 12,
      "outputs": [
        {
          "output_type": "execute_result",
          "data": {
            "text/plain": [
              "Dataset CIFAR10\n",
              "    Number of datapoints: 50000\n",
              "    Split: train\n",
              "    Root Location: ./data\n",
              "    Transforms (if any): Compose(\n",
              "                             ToTensor()\n",
              "                             Normalize(mean=(0.5, 0.5, 0.5), std=(0.5, 0.5, 0.5))\n",
              "                         )\n",
              "    Target Transforms (if any): None"
            ]
          },
          "metadata": {
            "tags": []
          },
          "execution_count": 12
        }
      ]
    },
    {
      "metadata": {
        "id": "qEulXkqPGxxs",
        "colab_type": "code",
        "colab": {}
      },
      "cell_type": "code",
      "source": [
        "batchs_per_epoch = 50000 // batch_size"
      ],
      "execution_count": 0,
      "outputs": []
    },
    {
      "metadata": {
        "id": "LCF6wqjvqQf2",
        "colab_type": "code",
        "colab": {
          "base_uri": "https://localhost:8080/",
          "height": 156
        },
        "outputId": "31881ac1-b6ba-4534-c6b9-f871b7af7a5c"
      },
      "cell_type": "code",
      "source": [
        "import matplotlib.pyplot as plt\n",
        "import numpy as np\n",
        "\n",
        "# functions to show an image\n",
        "\n",
        "\n",
        "def imshow(img):\n",
        "    img = img / 2 + 0.5     # unnormalize\n",
        "    npimg = img.numpy()\n",
        "    plt.imshow(np.transpose(npimg, (1, 2, 0)))\n",
        "    plt.show()\n",
        "\n",
        "\n",
        "# get some random training images\n",
        "dataiter = iter(trainloader)\n",
        "images, labels = dataiter.next()\n",
        "\n",
        "# show images\n",
        "imshow(torchvision.utils.make_grid(images))\n",
        "# print labels\n",
        "print('\\t'.join('%5s' % classes[labels[j]] for j in range(batch_size)))"
      ],
      "execution_count": 14,
      "outputs": [
        {
          "output_type": "display_data",
          "data": {
            "image/png": "[encoded data removed]",
            "text/plain": [
              "<Figure size 432x288 with 1 Axes>"
            ]
          },
          "metadata": {
            "tags": []
          }
        },
        {
          "output_type": "stream",
          "text": [
            "  cat\t  cat\tplane\t ship\n"
          ],
          "name": "stdout"
        }
      ]
    },
    {
      "metadata": {
        "id": "-VAUL8ZkoKPw",
        "colab_type": "text"
      },
      "cell_type": "markdown",
      "source": [
        "## Model"
      ]
    },
    {
      "metadata": {
        "id": "oNiBcg-QkYzu",
        "colab_type": "code",
        "colab": {}
      },
      "cell_type": "code",
      "source": [
        "import torch.nn as nn\n",
        "import torch.nn.functional as F\n",
        "\n",
        "\n",
        "class Net(nn.Module):\n",
        "    def __init__(self):\n",
        "        super(Net, self).__init__()\n",
        "        self.conv1 = nn.Conv2d(3, 6, 5)\n",
        "        self.pool = nn.MaxPool2d(2, 2)\n",
        "        self.conv2 = nn.Conv2d(6, 16, 5)\n",
        "        self.fc1 = nn.Linear(16 * 5 * 5, 120)\n",
        "        self.fc2 = nn.Linear(120, 84)\n",
        "        self.fc3 = nn.Linear(84, 10)\n",
        "\n",
        "    def forward(self, x):\n",
        "        x = self.pool(F.relu(self.conv1(x)))\n",
        "        x = self.pool(F.relu(self.conv2(x)))\n",
        "        x = x.view(-1, 16 * 5 * 5)\n",
        "        x = F.relu(self.fc1(x))\n",
        "        x = F.relu(self.fc2(x))\n",
        "        x = self.fc3(x)\n",
        "        return x"
      ],
      "execution_count": 0,
      "outputs": []
    },
    {
      "metadata": {
        "id": "KFUdCfE9oOwh",
        "colab_type": "text"
      },
      "cell_type": "markdown",
      "source": [
        "## Train"
      ]
    },
    {
      "metadata": {
        "id": "P31TyRm2tcgN",
        "colab_type": "code",
        "colab": {}
      },
      "cell_type": "code",
      "source": [
        "import time\n",
        "import math\n",
        "\n",
        "\n",
        "def time_since(since):\n",
        "    s = time.time() - since\n",
        "    m = math.floor(s / 60)\n",
        "    s -= m * 60\n",
        "    return '%dm %ds' % (m, s)\n",
        "\n",
        "\n",
        "def model_step(model, optimizer, criterion, inputs, labels):\n",
        "    outputs = model(inputs)\n",
        "    loss = criterion(outputs, labels)\n",
        "\n",
        "    if model.training:\n",
        "        optimizer.zero_grad()\n",
        "        loss.backward(retain_graph=True)\n",
        "    if optimizer.__class__.__name__ != 'SUG':\n",
        "        optimizer.step()\n",
        "    else:\n",
        "        def closure():\n",
        "            optimizer.zero_grad()\n",
        "            upd_outputs = model(inputs)\n",
        "            upd_loss = criterion(upd_outputs, labels)\n",
        "            upd_loss.backward(retain_graph=True)\n",
        "            return upd_loss\n",
        "\n",
        "        optimizer.step(loss, closure)\n",
        "\n",
        "    return loss.item()"
      ],
      "execution_count": 0,
      "outputs": []
    },
    {
      "metadata": {
        "id": "ECO6k5-xkzl1",
        "colab_type": "code",
        "colab": {}
      },
      "cell_type": "code",
      "source": [
        "def train(model, trainloader, criterion, optimizer, n_epochs=2, eps=1e-5, print_every=1):\n",
        "    losses = []\n",
        "    start_time = time.time()\n",
        "    model.to(device=device).train()\n",
        "    for ep in range(n_epochs):\n",
        "        i = 0\n",
        "        for i, data in enumerate(trainloader):\n",
        "            inputs, labels = data\n",
        "            inputs, labels = Variable(inputs).to(device=device), Variable(labels).to(device=device)\n",
        "\n",
        "            losses.append(model_step(model, optimizer, criterion, inputs, labels))\n",
        "\n",
        "        if ep % print_every == 0:\n",
        "            print(\"Epoch {}, loss {}, time passed {}\".format(ep, sum(losses[-i:]) / i, time_since(start_time)))\n",
        "        \n",
        "    return losses"
      ],
      "execution_count": 0,
      "outputs": []
    },
    {
      "metadata": {
        "id": "z7pdi0Nfk4ap",
        "colab_type": "code",
        "colab": {}
      },
      "cell_type": "code",
      "source": [
        "def train_lips(model, trainloader, criterion, optimizer, n_epochs=2, eps=1e-5, print_every=1):\n",
        "    losses = []\n",
        "    lips = []\n",
        "    start_time = time.time()\n",
        "    model.to(device).train()\n",
        "    for ep in range(n_epochs):\n",
        "        i = 0\n",
        "        for i, data in enumerate(trainloader):\n",
        "            inputs, labels = data\n",
        "            inputs, labels = Variable(inputs).to(device), Variable(labels).to(device)\n",
        "\n",
        "            losses.append(model_step(model, optimizer, criterion, inputs, labels))\n",
        "            lips.append(optimizer.get_lipsitz_const())\n",
        "        \n",
        "        if ep % print_every == 0:\n",
        "            print(\"Epoch {}, loss {}, time passed {}\".format(ep, sum(losses[-i:]) / i, time_since(start_time)))\n",
        "            print(\"Lipsitz constant {}\".format(optimizer.get_lipsitz_const()))\n",
        "\n",
        "    return losses, lips"
      ],
      "execution_count": 0,
      "outputs": []
    },
    {
      "metadata": {
        "id": "LZrx1G-ykasC",
        "colab_type": "code",
        "colab": {}
      },
      "cell_type": "code",
      "source": [
        "print_every = 1\n",
        "n_epochs = 15\n",
        "losses = {}\n",
        "losses['sgd'] = {}\n",
        "lrs = [0.01, 0.001]\n",
        "criterion = nn.CrossEntropyLoss(reduction=\"mean\")"
      ],
      "execution_count": 0,
      "outputs": []
    },
    {
      "metadata": {
        "id": "63LQotmbkdOx",
        "colab_type": "code",
        "outputId": "33aeb2b1-e4a8-4f80-f84c-7948a450abc7",
        "colab": {
          "base_uri": "https://localhost:8080/",
          "height": 561
        }
      },
      "cell_type": "code",
      "source": [
        "for lr in lrs:\n",
        "  print(\"Trining for SGD lr={}, momentum=0.\".format(lr))\n",
        "  net = Net()\n",
        "  optimizer = optim.SGD(net.parameters(), lr=lr, momentum=0.)\n",
        "  losses['sgd'][lr] = train(net, trainloader, criterion, optimizer, n_epochs=n_epochs, print_every=print_every)"
      ],
      "execution_count": 19,
      "outputs": [
        {
          "output_type": "stream",
          "text": [
            "Trining for SGD lr=0.01, momentum=0.\n",
            "Epoch 0, loss 1.689263466060405, time passed 0m 53s\n",
            "Epoch 1, loss 1.334130160884291, time passed 1m 41s\n",
            "Epoch 2, loss 1.2098840361609917, time passed 2m 27s\n",
            "Epoch 3, loss 1.1118617537417634, time passed 3m 14s\n",
            "Epoch 4, loss 1.040202680843164, time passed 4m 0s\n",
            "Epoch 5, loss 0.9790666924923818, time passed 4m 47s\n",
            "Epoch 6, loss 0.9362179746684269, time passed 5m 33s\n",
            "Epoch 7, loss 0.8978988984096755, time passed 6m 21s\n",
            "Epoch 8, loss 0.8640562053565665, time passed 7m 9s\n",
            "Epoch 9, loss 0.8310008965756323, time passed 7m 56s\n",
            "Epoch 10, loss 0.8049570134720122, time passed 8m 43s\n",
            "Epoch 11, loss 0.7830205745163493, time passed 9m 30s\n",
            "Epoch 12, loss 0.7583162115424984, time passed 10m 17s\n",
            "Epoch 13, loss 0.746174738947244, time passed 11m 5s\n",
            "Epoch 14, loss 0.725915546848427, time passed 11m 51s\n",
            "Trining for SGD lr=0.001, momentum=0.\n",
            "Epoch 0, loss 2.2622463924139535, time passed 0m 48s\n",
            "Epoch 1, loss 1.9668754809464881, time passed 1m 34s\n",
            "Epoch 2, loss 1.6567503824568965, time passed 2m 22s\n",
            "Epoch 3, loss 1.5322084376402632, time passed 3m 9s\n",
            "Epoch 4, loss 1.4565311232937155, time passed 3m 55s\n",
            "Epoch 5, loss 1.3912240805597493, time passed 4m 42s\n",
            "Epoch 6, loss 1.3391649097917138, time passed 5m 30s\n",
            "Epoch 7, loss 1.2924489821636331, time passed 6m 17s\n",
            "Epoch 8, loss 1.2488502593042945, time passed 7m 3s\n",
            "Epoch 9, loss 1.2067029706401171, time passed 7m 50s\n",
            "Epoch 10, loss 1.1712195102749219, time passed 8m 38s\n",
            "Epoch 11, loss 1.1376373882374389, time passed 9m 23s\n",
            "Epoch 12, loss 1.1078885467383983, time passed 10m 11s\n",
            "Epoch 13, loss 1.0777017485190319, time passed 10m 58s\n",
            "Epoch 14, loss 1.0503089738608418, time passed 11m 45s\n"
          ],
          "name": "stdout"
        }
      ]
    },
    {
      "metadata": {
        "id": "5zQP3ScLlGTG",
        "colab_type": "code",
        "colab": {}
      },
      "cell_type": "code",
      "source": [
        "l_0 = 2"
      ],
      "execution_count": 0,
      "outputs": []
    },
    {
      "metadata": {
        "id": "hvlraX6DkqTF",
        "colab_type": "code",
        "colab": {
          "base_uri": "https://localhost:8080/",
          "height": 527
        },
        "outputId": "33d18fb8-a415-458b-c56c-972fa4e67576"
      },
      "cell_type": "code",
      "source": [
        "net = Net()\n",
        "optimizer = SUG(net.parameters(), l_0=l_0, momentum=0.)\n",
        "losses['sug'], lips = train_lips(net, trainloader, criterion, optimizer, n_epochs=n_epochs, print_every=print_every, eps=0.1)"
      ],
      "execution_count": 43,
      "outputs": [
        {
          "output_type": "stream",
          "text": [
            "Epoch 0, loss 1.7143023236578623, time passed 1m 43s\n",
            "Lipsitz constant 32.0\n",
            "Epoch 1, loss 1.4451231452067077, time passed 3m 28s\n",
            "Lipsitz constant 16.0\n",
            "Epoch 2, loss 1.318764834072468, time passed 5m 11s\n",
            "Lipsitz constant 8.0\n",
            "Epoch 3, loss 1.2155641278478373, time passed 6m 54s\n",
            "Lipsitz constant 16.0\n",
            "Epoch 4, loss 1.1287842620033313, time passed 8m 38s\n",
            "Lipsitz constant 32.0\n",
            "Epoch 5, loss 1.0585312964663676, time passed 10m 20s\n",
            "Lipsitz constant 16.0\n",
            "Epoch 6, loss 1.0006715831675332, time passed 12m 2s\n",
            "Lipsitz constant 32.0\n",
            "Epoch 7, loss 0.9348258920450842, time passed 13m 46s\n",
            "Lipsitz constant 128.0\n",
            "Epoch 8, loss 0.8804046149391758, time passed 15m 27s\n",
            "Lipsitz constant 32.0\n",
            "Epoch 9, loss 0.827149204539627, time passed 17m 10s\n",
            "Lipsitz constant 32.0\n",
            "Epoch 10, loss 0.7739877490265216, time passed 18m 54s\n",
            "Lipsitz constant 128.0\n",
            "Epoch 11, loss 0.7206265276904602, time passed 20m 38s\n",
            "Lipsitz constant 256.0\n",
            "Epoch 12, loss 0.6779930478706867, time passed 22m 22s\n",
            "Lipsitz constant 128.0\n",
            "Epoch 13, loss 0.627747743010416, time passed 24m 6s\n",
            "Lipsitz constant 256.0\n",
            "Epoch 14, loss 0.5841021106399358, time passed 25m 50s\n",
            "Lipsitz constant 256.0\n"
          ],
          "name": "stdout"
        }
      ]
    },
    {
      "metadata": {
        "id": "Q5ZZv22HlRMg",
        "colab_type": "code",
        "colab": {
          "base_uri": "https://localhost:8080/",
          "height": 446
        },
        "outputId": "115eac55-f6e8-45dc-b5cb-0b0b17d3ef94"
      },
      "cell_type": "code",
      "source": [
        "figure = plt.figure(figsize=(10,7))\n",
        "for lr in lrs:\n",
        "    plt.plot([np.mean(losses['sgd'][lr][i:i+200]) for i in range(len(losses['sgd'][lr])-200)], label='sgd'+str(lr))\n",
        "plt.plot([np.mean(losses['sug'][i:i+200]) for i in range(len(losses['sug'])-200)], label=\"sug\")\n",
        "plt.xlabel(\"# of batch\")\n",
        "plt.ylabel(\"loss\")\n",
        "plt.legend()\n",
        "plt.show()"
      ],
      "execution_count": 41,
      "outputs": [
        {
          "output_type": "display_data",
          "data": {
            "image/png": "[encoded data removed]",
            "text/plain": [
              "<Figure size 720x504 with 1 Axes>"
            ]
          },
          "metadata": {
            "tags": []
          }
        }
      ]
    },
    {
      "metadata": {
        "id": "u1LP7B6DHQBA",
        "colab_type": "code",
        "colab": {
          "base_uri": "https://localhost:8080/",
          "height": 34
        },
        "outputId": "dc5b24e4-823a-4e1c-fd60-1b8787de7f7c"
      },
      "cell_type": "code",
      "source": [
        "batchs_per_epoch"
      ],
      "execution_count": 79,
      "outputs": [
        {
          "output_type": "execute_result",
          "data": {
            "text/plain": [
              "12500"
            ]
          },
          "metadata": {
            "tags": []
          },
          "execution_count": 79
        }
      ]
    },
    {
      "metadata": {
        "id": "0WrV7AKbGUxq",
        "colab_type": "code",
        "colab": {
          "base_uri": "https://localhost:8080/",
          "height": 446
        },
        "outputId": "1cfbc279-32bb-4eb2-c04a-aa77113dc44c"
      },
      "cell_type": "code",
      "source": [
        "figure = plt.figure(figsize=(10,7))\n",
        "for lr in lrs:\n",
        "    plt.plot([sum(losses['sgd'][lr][i*batchs_per_epoch:(i+1)*batchs_per_epoch])/batchs_per_epoch for i in range(n_epochs)], label='sgd'+str(lr))\n",
        "plt.plot([sum(losses['sug'][i*batchs_per_epoch:(i+1)*batchs_per_epoch])/batchs_per_epoch for i in range(n_epochs)], label=\"sug\")\n",
        "plt.xlabel(\"# of batch\")\n",
        "plt.ylabel(\"loss\")\n",
        "plt.legend()\n",
        "plt.show()"
      ],
      "execution_count": 83,
      "outputs": [
        {
          "output_type": "display_data",
          "data": {
            "image/png": "[encoded data removed]",
            "text/plain": [
              "<Figure size 720x504 with 1 Axes>"
            ]
          },
          "metadata": {
            "tags": []
          }
        }
      ]
    },
    {
      "metadata": {
        "id": "QsdTzJRwlL4A",
        "colab_type": "code",
        "colab": {
          "base_uri": "https://localhost:8080/",
          "height": 295
        },
        "outputId": "8f949c89-27c0-4d15-c960-7449288bf4e4"
      },
      "cell_type": "code",
      "source": [
        "plt.plot(lips)\n",
        "plt.title(\"Lipsitz constant of gradient per batch\")\n",
        "plt.xlabel(\"# of batch\")\n",
        "plt.ylabel(\"L\")\n",
        "#plt.legend()\n",
        "plt.show()"
      ],
      "execution_count": 44,
      "outputs": [
        {
          "output_type": "display_data",
          "data": {
            "image/png": "[encoded data removed]",
            "text/plain": [
              "<Figure size 432x288 with 1 Axes>"
            ]
          },
          "metadata": {
            "tags": []
          }
        }
      ]
    },
    {
      "metadata": {
        "id": "itbnEVXGF6GL",
        "colab_type": "code",
        "colab": {
          "base_uri": "https://localhost:8080/",
          "height": 295
        },
        "outputId": "ea29fd85-2d18-428c-d93d-6f3a828d923d"
      },
      "cell_type": "code",
      "source": [
        "smooth_over = 50\n",
        "smooth_lips = [np.mean(lips[i:i+smooth_over]) for i in range(len(lips)-smooth_over)]\n",
        "\n",
        "plt.plot(smooth_lips)\n",
        "plt.title(\"Mean Lipsitz constant of gradient  over {} batches\".format(smooth_over))\n",
        "plt.xlabel(\"# of batch\")\n",
        "plt.ylabel(\"L\")\n",
        "#plt.legend()\n",
        "plt.show()"
      ],
      "execution_count": 45,
      "outputs": [
        {
          "output_type": "display_data",
          "data": {
            "image/png": "[encoded data removed]",
            "text/plain": [
              "<Figure size 432x288 with 1 Axes>"
            ]
          },
          "metadata": {
            "tags": []
          }
        }
      ]
    },
    {
      "metadata": {
        "id": "CzTEJ6AGoG0w",
        "colab_type": "code",
        "colab": {
          "base_uri": "https://localhost:8080/",
          "height": 295
        },
        "outputId": "a76fadba-16a2-458d-b0b0-16c8420790c2"
      },
      "cell_type": "code",
      "source": [
        "smooth_over = 500\n",
        "smooth_lips = [np.mean(lips[i:i+smooth_over]) for i in range(len(lips)-smooth_over)]\n",
        "\n",
        "plt.plot(smooth_lips)\n",
        "plt.title(\"Mean Lipsitz constant of gradient  over {} batches\".format(smooth_over))\n",
        "plt.xlabel(\"# of batch\")\n",
        "plt.ylabel(\"L\")\n",
        "#plt.legend()\n",
        "plt.show()"
      ],
      "execution_count": 46,
      "outputs": [
        {
          "output_type": "display_data",
          "data": {
            "image/png": "[encoded data removed]",
            "text/plain": [
              "<Figure size 432x288 with 1 Axes>"
            ]
          },
          "metadata": {
            "tags": []
          }
        }
      ]
    },
    {
      "metadata": {
        "id": "3FEyug8xInKH",
        "colab_type": "code",
        "colab": {
          "base_uri": "https://localhost:8080/",
          "height": 295
        },
        "outputId": "3c55eaf0-bc70-4ca3-a59a-4ebbe8d3265e"
      },
      "cell_type": "code",
      "source": [
        "smooth_over = 5000\n",
        "smooth_lips = [np.mean(lips[i:i+smooth_over]) for i in range(len(lips)-smooth_over)]\n",
        "\n",
        "plt.plot(np.log(smooth_lips))\n",
        "plt.title(\"Log of Lipsitz constant of gradient per batch\")\n",
        "plt.xlabel(\"# of batch\")\n",
        "plt.ylabel(\"log L\")\n",
        "#plt.legend()\n",
        "plt.show()"
      ],
      "execution_count": 47,
      "outputs": [
        {
          "output_type": "display_data",
          "data": {
            "image/png": "[encoded data removed]",
            "text/plain": [
              "<Figure size 432x288 with 1 Axes>"
            ]
          },
          "metadata": {
            "tags": []
          }
        }
      ]
    },
    {
      "metadata": {
        "id": "blvneMhauV17",
        "colab_type": "text"
      },
      "cell_type": "markdown",
      "source": [
        "## + momentum"
      ]
    },
    {
      "metadata": {
        "id": "ziYVJugruY2y",
        "colab_type": "code",
        "colab": {}
      },
      "cell_type": "code",
      "source": [
        ""
      ],
      "execution_count": 0,
      "outputs": []
    },
    {
      "metadata": {
        "id": "uqB0b4D2oSK9",
        "colab_type": "text"
      },
      "cell_type": "markdown",
      "source": [
        "## Test"
      ]
    },
    {
      "metadata": {
        "id": "IEZr9Qp1oTGF",
        "colab_type": "code",
        "colab": {}
      },
      "cell_type": "code",
      "source": [
        "def test(model, trainloader, criterion, optimizer, eps=1e-5, print_every=1):\n",
        "    losses = []\n",
        "    start_time = time.time()\n",
        "    model.to(device=device).eval()\n",
        "    for ep in range(n_epochs):\n",
        "        i = 0\n",
        "        for i, data in enumerate(trainloader):\n",
        "            inputs, labels = data\n",
        "            inputs, labels = Variable(inputs).to(device=device), Variable(labels).to(device=device)\n",
        "\n",
        "            losses.append(model_step(model, optimizer, criterion, inputs, labels))\n",
        "\n",
        "        if ep % print_every == 0:\n",
        "            print(\"Epoch {}, loss {}, time passed {}\".format(ep, sum(losses[-i:]) / i, time_since(start_time)))\n",
        "    return losses"
      ],
      "execution_count": 0,
      "outputs": []
    },
    {
      "metadata": {
        "id": "JzaJrBB9q7gk",
        "colab_type": "code",
        "colab": {}
      },
      "cell_type": "code",
      "source": [
        "from sklearn.metrics import f1_score"
      ],
      "execution_count": 0,
      "outputs": []
    },
    {
      "metadata": {
        "id": "8Sk8TPC4rS9q",
        "colab_type": "code",
        "colab": {}
      },
      "cell_type": "code",
      "source": [
        "correct = 0\n",
        "total = 0\n",
        "with torch.no_grad():\n",
        "    for data in testloader:\n",
        "        images, labels = data\n",
        "        outputs = net(images)\n",
        "        _, predicted = torch.max(outputs.data, 1)\n",
        "        total += labels.size(0)\n",
        "        correct += (predicted == labels).sum().item()\n",
        "\n",
        "print('Accuracy of the network on the 10000 test images: %d %%' % (\n",
        "    100 * correct / total))"
      ],
      "execution_count": 0,
      "outputs": []
    },
    {
      "metadata": {
        "id": "4IEjKek0wBJO",
        "colab_type": "code",
        "colab": {}
      },
      "cell_type": "code",
      "source": [
        "class_correct = list(0. for i in range(10))\n",
        "class_total = list(0. for i in range(10))\n",
        "with torch.no_grad():\n",
        "    for data in testloader:\n",
        "        images, labels = data\n",
        "        outputs = net(images)\n",
        "        _, predicted = torch.max(outputs, 1)\n",
        "        c = (predicted == labels).squeeze()\n",
        "        for i in range(4):\n",
        "            label = labels[i]\n",
        "            class_correct[label] += c[i].item()\n",
        "            class_total[label] += 1\n",
        "\n",
        "\n",
        "for i in range(10):\n",
        "    print('Accuracy of %5s : %2d %%' % (\n",
        "        classes[i], 100 * class_correct[i] / class_total[i]))"
      ],
      "execution_count": 0,
      "outputs": []
    }
  ]
}