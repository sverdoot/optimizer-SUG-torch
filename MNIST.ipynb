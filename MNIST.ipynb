{
  "nbformat": 4,
  "nbformat_minor": 0,
  "metadata": {
    "colab": {
      "name": "MNIST.ipynb",
      "version": "0.3.2",
      "provenance": [],
      "include_colab_link": true
    },
    "kernelspec": {
      "name": "python3",
      "display_name": "Python 3"
    },
    "accelerator": "GPU"
  },
  "cells": [
    {
      "cell_type": "markdown",
      "metadata": {
        "id": "view-in-github",
        "colab_type": "text"
      },
      "source": [
        "<a href=\"https://colab.research.google.com/github/sverdoot/optimizer-SUG-torch/blob/master/MNIST.ipynb\" target=\"_parent\"><img src=\"https://colab.research.google.com/assets/colab-badge.svg\" alt=\"Open In Colab\"/></a>"
      ]
    },
    {
      "metadata": {
        "colab_type": "code",
        "id": "_ni0nMDcukyV",
        "colab": {
          "base_uri": "https://localhost:8080/",
          "height": 122
        },
        "outputId": "26d797fc-3fc8-4965-cf44-c813ee14b060"
      },
      "cell_type": "code",
      "source": [
        "from google.colab import drive\n",
        "drive.mount('/content/drive')"
      ],
      "execution_count": 1,
      "outputs": [
        {
          "output_type": "stream",
          "text": [
            "Go to this URL in a browser: https://accounts.google.com/o/oauth2/auth?client_id=947318989803-6bn6qk8qdgf4n4g3pfee6491hc0brc4i.apps.googleusercontent.com&redirect_uri=urn%3Aietf%3Awg%3Aoauth%3A2.0%3Aoob&scope=email%20https%3A%2F%2Fwww.googleapis.com%2Fauth%2Fdocs.test%20https%3A%2F%2Fwww.googleapis.com%2Fauth%2Fdrive%20https%3A%2F%2Fwww.googleapis.com%2Fauth%2Fdrive.photos.readonly%20https%3A%2F%2Fwww.googleapis.com%2Fauth%2Fpeopleapi.readonly&response_type=code\n",
            "\n",
            "Enter your authorization code:\n",
            "··········\n",
            "Mounted at /content/drive\n"
          ],
          "name": "stdout"
        }
      ]
    },
    {
      "metadata": {
        "colab_type": "code",
        "id": "p-4vBJwaukwk",
        "colab": {
          "base_uri": "https://localhost:8080/",
          "height": 34
        },
        "outputId": "29b320f7-5e6f-4967-853f-4f6ed1a915b4"
      },
      "cell_type": "code",
      "source": [
        "import os\n",
        "os.chdir(\"/content/drive/My Drive/Colab Notebooks/Optimization project\")\n",
        "os.getcwd()"
      ],
      "execution_count": 1,
      "outputs": [
        {
          "output_type": "execute_result",
          "data": {
            "text/plain": [
              "'/content/drive/My Drive/Colab Notebooks/Optimization project'"
            ]
          },
          "metadata": {
            "tags": []
          },
          "execution_count": 1
        }
      ]
    },
    {
      "metadata": {
        "id": "Yxev0IywrZJR",
        "colab_type": "code",
        "colab": {}
      },
      "cell_type": "code",
      "source": [
        "import torch\n",
        "from torch.optim import Optimizer\n",
        "import math\n",
        "\n",
        "\n",
        "class SUG(Optimizer):\n",
        "    def __init__(self, params, l_0, d_0=0, prob=1., eps=1e-3, momentum=0, dampening=0,\n",
        "                 weight_decay=0, nesterov=False):\n",
        "        if l_0 < 0.0:\n",
        "            raise ValueError(\"Invalid Lipsitz constant of gradient: {}\".format(l_0))\n",
        "        if d_0 < 0.0:\n",
        "            raise ValueError(\"Invalid disperion of gradient: {}\".format(d_0))\n",
        "        if momentum < 0.0:\n",
        "            raise ValueError(\"Invalid momentum value: {}\".format(momentum))\n",
        "        if weight_decay < 0.0:\n",
        "            raise ValueError(\"Invalid weight_decay value: {}\".format(weight_decay))\n",
        "\n",
        "        defaults = dict(L=l_0, momentum=momentum, dampening=dampening,\n",
        "                        weight_decay=weight_decay, nesterov=nesterov)\n",
        "        if nesterov and (momentum <= 0 or dampening != 0):\n",
        "            raise ValueError(\"Nesterov momentum requires a momentum and zero dampening\")\n",
        "        self.Lips = l_0\n",
        "        self.prev_Lips = l_0\n",
        "        self.D_0 = d_0\n",
        "        self.eps = eps\n",
        "        self.prob = prob\n",
        "        self.start_param = params\n",
        "        self.loss = torch.tensor(0.)\n",
        "        self.closure = None\n",
        "        super(SUG, self).__init__(params, defaults)\n",
        "\n",
        "    def __setstate__(self, state):\n",
        "        super(SUG, self).__setstate__(state)\n",
        "        for group in self.param_groups:\n",
        "            group.setdefault('nesterov', False)\n",
        "\n",
        "    def comp_batch_size(self):\n",
        "        \"\"\"Returns optimal batch size for given d_0, eps and l_0;\n",
        "\n",
        "        \"\"\"\n",
        "        return math.ceil(2 * self.D_0 * self.eps / self.prev_Lips)\n",
        "\n",
        "    def step(self, loss, closure):\n",
        "        \"\"\"Performs a single optimization step.\n",
        "\n",
        "        Arguments:\n",
        "            loss : current loss\n",
        "\n",
        "            closure (callable, optional): A closure that reevaluates the model\n",
        "                and returns the loss.\n",
        "        \"\"\"\n",
        "        self.start_param = []\n",
        "        self.loss = loss\n",
        "        self.closure = closure\n",
        "        check = torch.bernoulli(torch.tensor(float(self.prob))).item()\n",
        "        # self.L = min(self.L / 2, 2)\n",
        "        for gr_idx, group in enumerate(self.param_groups):\n",
        "            # weight_decay = group['weight_decay']\n",
        "            momentum = group['momentum']\n",
        "            dampening = group['dampening']\n",
        "            nesterov = group['nesterov']\n",
        "\n",
        "            for p_idx, p in enumerate(group['params']):\n",
        "                if p.grad is None:\n",
        "                    continue\n",
        "                self.start_param.append({'data': p.data.clone(), 'grad': p.grad.data.clone()})\n",
        "                d_p = self.start_param[-1]['grad']\n",
        "                # p_ = self.start_param[-1]['data']\n",
        "                # if weight_decay != 0:\n",
        "                #    d_p.add_(weight_decay, p.data)\n",
        "                if momentum != 0:\n",
        "                    param_state = self.state[p]\n",
        "                    if 'momentum_buffer' not in param_state:\n",
        "                        buf = param_state['momentum_buffer'] = torch.zeros_like(p.data)\n",
        "                        buf.mul_(momentum).add_(d_p)\n",
        "                    else:\n",
        "                        buf = param_state['momentum_buffer']\n",
        "                        buf.mul_(momentum).add_(1 - dampening, d_p)\n",
        "                    if nesterov:\n",
        "                        d_p = d_p.add(momentum, buf)\n",
        "                    else:\n",
        "                        d_p = buf\n",
        "        i = 0\n",
        "        difference = -1\n",
        "        while difference < 0:\n",
        "            if check:\n",
        "                self.Lips = max(self.prev_Lips * 2 ** (i - 1), 2.)\n",
        "            for j, p in enumerate(self.start_param):\n",
        "                self.param_groups[0]['params'][j].data = p['data'] - 1 / (2 * self.Lips) * p['grad']\n",
        "            if check:\n",
        "                difference, upd_loss = self.stop_criteria()\n",
        "            else:\n",
        "                difference = 1\n",
        "            i += 1\n",
        "        self.prev_Lips = self.Lips\n",
        "\n",
        "        return self.Lips, i\n",
        "\n",
        "    def stop_criteria(self):\n",
        "        \"\"\"Checks if the Lipsitz constant of gradient is appropriate\n",
        "        \"\"\"\n",
        "        cur_loss = self.loss.item()\n",
        "        upd_loss = self.closure().item()\n",
        "        #linear_part, quadratic_part = 0, 0\n",
        "        delta = 0.\n",
        "        for j, p in enumerate(self.start_param):\n",
        "            #delta = (self.param_groups[0]['params'][j].data - p['data'])\n",
        "            #linear_part += torch.sum(p['grad'] * delta)\n",
        "            #quadratic_part += torch.sum(delta * delta)\n",
        "            delta += torch.sum(p['grad'] * p['grad'])\n",
        "        \"\"\" <g(x_k), w_k - x_k> + 2L_k / 2 ||x_k - w_k||^2 = - 1 / (2L_k)||g(x_k)||^2 + 1 / (4L_k)||g(x_k)||^2 = -1 / (4L_k)||g(x_k)||^2\n",
        "        \"\"\"\n",
        "        major =  cur_loss - 1 / (4 * self.Lips) * delta\n",
        "        #return cur_loss - upd_loss + linear_part + self.Lips * quadratic_part + self.eps / 10, upd_loss\n",
        "        return major - upd_loss + self.eps / 10, upd_loss\n",
        "\n",
        "    def get_lipsitz_const(self):\n",
        "        \"\"\" Returns current Lipsitz constant of the gradient of the loss function\n",
        "        \"\"\"\n",
        "        return self.Lips"
      ],
      "execution_count": 0,
      "outputs": []
    },
    {
      "metadata": {
        "id": "fiSHwkvZumRd",
        "colab_type": "code",
        "colab": {}
      },
      "cell_type": "code",
      "source": [
        "%matplotlib inline\n",
        "import torch\n",
        "from torch import nn\n",
        "from torch import optim\n",
        "from torch.autograd import Variable\n",
        "import time\n",
        "import pandas as pd\n",
        "import numpy as np"
      ],
      "execution_count": 0,
      "outputs": []
    },
    {
      "metadata": {
        "id": "p2Mo1UdyumT9",
        "colab_type": "code",
        "colab": {
          "base_uri": "https://localhost:8080/",
          "height": 34
        },
        "outputId": "2d67b915-b184-4c10-d3f1-abd64e257ac3"
      },
      "cell_type": "code",
      "source": [
        "device = torch.device(\"cuda:0\" if torch.cuda.is_available() else \"cpu\")\n",
        "\n",
        "device"
      ],
      "execution_count": 5,
      "outputs": [
        {
          "output_type": "execute_result",
          "data": {
            "text/plain": [
              "device(type='cuda', index=0)"
            ]
          },
          "metadata": {
            "tags": []
          },
          "execution_count": 5
        }
      ]
    },
    {
      "metadata": {
        "id": "vtSNgMFpumMx",
        "colab_type": "code",
        "colab": {}
      },
      "cell_type": "code",
      "source": [
        "from torch.autograd import Variable\n",
        "\n",
        "import torch.nn as nn\n",
        "import torch.nn.functional as F\n",
        "\n",
        "import torch.optim as optim\n",
        "\n",
        "import torchvision\n",
        "import torchvision.transforms as transforms\n",
        "\n",
        "import matplotlib.pyplot as plt\n",
        "import numpy as np"
      ],
      "execution_count": 0,
      "outputs": []
    },
    {
      "metadata": {
        "id": "W6Lk5gvGu1Yc",
        "colab_type": "text"
      },
      "cell_type": "markdown",
      "source": [
        "## Data"
      ]
    },
    {
      "metadata": {
        "id": "_rk3Q_Jku2by",
        "colab_type": "code",
        "colab": {
          "base_uri": "https://localhost:8080/",
          "height": 275
        },
        "outputId": "067e9cbd-cfad-4e83-b2ff-cecd5ede824b"
      },
      "cell_type": "code",
      "source": [
        "BATCH_SIZE = 4\n",
        "\n",
        "# torchvision.datasets.MNIST outputs a set of PIL images\n",
        "# We transform them to tensors\n",
        "transform = transforms.ToTensor()\n",
        "\n",
        "# Load and transform data\n",
        "trainset = torchvision.datasets.MNIST('/tmp', train=True, download=True, transform=transform)\n",
        "trainloader = torch.utils.data.DataLoader(trainset, batch_size=BATCH_SIZE, shuffle=True, num_workers=2)\n",
        "\n",
        "testset = torchvision.datasets.MNIST('/tmp', train=False, download=True, transform=transform)\n",
        "testloader = torch.utils.data.DataLoader(testset, batch_size=BATCH_SIZE, shuffle=False, num_workers=2)"
      ],
      "execution_count": 7,
      "outputs": [
        {
          "output_type": "stream",
          "text": [
            "  0%|          | 0/9912422 [00:00<?, ?it/s]"
          ],
          "name": "stderr"
        },
        {
          "output_type": "stream",
          "text": [
            "Downloading http://yann.lecun.com/exdb/mnist/train-images-idx3-ubyte.gz to /tmp/MNIST/raw/train-images-idx3-ubyte.gz\n"
          ],
          "name": "stdout"
        },
        {
          "output_type": "stream",
          "text": [
            "9920512it [00:00, 24846339.61it/s]                            \n"
          ],
          "name": "stderr"
        },
        {
          "output_type": "stream",
          "text": [
            "Extracting /tmp/MNIST/raw/train-images-idx3-ubyte.gz\n"
          ],
          "name": "stdout"
        },
        {
          "output_type": "stream",
          "text": [
            "32768it [00:00, 459106.21it/s]\n",
            "  1%|          | 16384/1648877 [00:00<00:11, 143504.31it/s]"
          ],
          "name": "stderr"
        },
        {
          "output_type": "stream",
          "text": [
            "Downloading http://yann.lecun.com/exdb/mnist/train-labels-idx1-ubyte.gz to /tmp/MNIST/raw/train-labels-idx1-ubyte.gz\n",
            "Extracting /tmp/MNIST/raw/train-labels-idx1-ubyte.gz\n",
            "Downloading http://yann.lecun.com/exdb/mnist/t10k-images-idx3-ubyte.gz to /tmp/MNIST/raw/t10k-images-idx3-ubyte.gz\n"
          ],
          "name": "stdout"
        },
        {
          "output_type": "stream",
          "text": [
            "1654784it [00:00, 6985612.58it/s]                           \n",
            "8192it [00:00, 179274.44it/s]\n"
          ],
          "name": "stderr"
        },
        {
          "output_type": "stream",
          "text": [
            "Extracting /tmp/MNIST/raw/t10k-images-idx3-ubyte.gz\n",
            "Downloading http://yann.lecun.com/exdb/mnist/t10k-labels-idx1-ubyte.gz to /tmp/MNIST/raw/t10k-labels-idx1-ubyte.gz\n",
            "Extracting /tmp/MNIST/raw/t10k-labels-idx1-ubyte.gz\n",
            "Processing...\n",
            "Done!\n"
          ],
          "name": "stdout"
        }
      ]
    },
    {
      "metadata": {
        "id": "7j9cjtv5u57l",
        "colab_type": "code",
        "colab": {
          "base_uri": "https://localhost:8080/",
          "height": 173
        },
        "outputId": "1f8a7d0e-ced1-4700-9d2c-3d9788ee1cdd"
      },
      "cell_type": "code",
      "source": [
        "def show_batch(batch):\n",
        "    im = torchvision.utils.make_grid(batch)\n",
        "    plt.imshow(np.transpose(im.numpy(), (1, 2, 0)))\n",
        "    \n",
        "dataiter = iter(trainloader)\n",
        "images, labels = dataiter.next()\n",
        "\n",
        "print('Labels: ', labels)\n",
        "print('Batch shape: ', images.size())\n",
        "show_batch(images)"
      ],
      "execution_count": 8,
      "outputs": [
        {
          "output_type": "stream",
          "text": [
            "Labels:  tensor([8, 4, 8, 0])\n",
            "Batch shape:  torch.Size([4, 1, 28, 28])\n"
          ],
          "name": "stdout"
        },
        {
          "output_type": "display_data",
          "data": {
            "image/png": "[encoded data removed]",
            "text/plain": [
              "<Figure size 432x288 with 1 Axes>"
            ]
          },
          "metadata": {
            "tags": []
          }
        }
      ]
    },
    {
      "metadata": {
        "id": "THk9uDZku-gM",
        "colab_type": "text"
      },
      "cell_type": "markdown",
      "source": [
        "## Model (Fully Connected nn)"
      ]
    },
    {
      "metadata": {
        "id": "uh3HnmUmu96Q",
        "colab_type": "code",
        "colab": {}
      },
      "cell_type": "code",
      "source": [
        "class Net(nn.Module):\n",
        "    def __init__(self):\n",
        "        super(Net, self).__init__()\n",
        "        self.linear1 = nn.Linear(28*28, 256)\n",
        "        self.linear2 = nn.Linear(256, 10)\n",
        "\n",
        "    def forward(self, x):\n",
        "        h_relu = F.relu(self.linear1(x.view(BATCH_SIZE, -1)))\n",
        "        y_pred = self.linear2(h_relu)\n",
        "        return y_pred"
      ],
      "execution_count": 0,
      "outputs": []
    },
    {
      "metadata": {
        "id": "-SSTdIH_vKV5",
        "colab_type": "text"
      },
      "cell_type": "markdown",
      "source": [
        "## Train"
      ]
    },
    {
      "metadata": {
        "id": "nMttjLlZrbcd",
        "colab_type": "code",
        "colab": {}
      },
      "cell_type": "code",
      "source": [
        "import time\n",
        "import math\n",
        "\n",
        "\n",
        "def time_since(since):\n",
        "    s = time.time() - since\n",
        "    m = math.floor(s / 60)\n",
        "    s -= m * 60\n",
        "    return '%dm %ds' % (m, s)\n",
        "\n",
        "\n",
        "def model_step(model, optimizer, criterion, inputs, labels):\n",
        "    outputs = model(inputs)\n",
        "    loss = criterion(outputs, labels)\n",
        "\n",
        "    if model.training:\n",
        "        optimizer.zero_grad()\n",
        "        loss.backward(retain_graph=True)\n",
        "    if optimizer.__class__.__name__ != 'SUG':\n",
        "        optimizer.step()\n",
        "    else:\n",
        "        def closure():\n",
        "            optimizer.zero_grad()\n",
        "            upd_outputs = model(inputs)\n",
        "            upd_loss = criterion(upd_outputs, labels)\n",
        "            upd_loss.backward(retain_graph=True)\n",
        "            return upd_loss\n",
        "\n",
        "        optimizer.step(loss, closure)\n",
        "\n",
        "    return loss.item()"
      ],
      "execution_count": 0,
      "outputs": []
    },
    {
      "metadata": {
        "id": "MMgATVQnvIiy",
        "colab_type": "code",
        "colab": {}
      },
      "cell_type": "code",
      "source": [
        "def train(model, trainloader, criterion, optimizer, n_epochs=2, eps=1e-5, print_every=1):\n",
        "    losses = []\n",
        "    start_time = time.time()\n",
        "    model.to(device=device).train()\n",
        "    for ep in range(n_epochs):\n",
        "        i = 0\n",
        "        for i, data in enumerate(trainloader):\n",
        "            inputs, labels = data\n",
        "            inputs, labels = Variable(inputs).to(device=device), Variable(labels).to(device=device)\n",
        "\n",
        "            losses.append(model_step(model, optimizer, criterion, inputs, labels))\n",
        "\n",
        "        if ep % print_every == 0:\n",
        "            print(\"Epoch {}, loss {}, time passed {}\".format(ep, sum(losses[-i:]) / i, time_since(start_time)))\n",
        "        \n",
        "    return losses"
      ],
      "execution_count": 0,
      "outputs": []
    },
    {
      "metadata": {
        "id": "zmA1oXuuvL58",
        "colab_type": "code",
        "colab": {}
      },
      "cell_type": "code",
      "source": [
        "def train_lips(model, trainloader, criterion, optimizer, n_epochs=2, eps=1e-5, print_every=1):\n",
        "    losses = []\n",
        "    lips = []\n",
        "    start_time = time.time()\n",
        "    model.to(device).train()\n",
        "    for ep in range(n_epochs):\n",
        "        i = 0\n",
        "        for i, data in enumerate(trainloader):\n",
        "            inputs, labels = data\n",
        "            inputs, labels = Variable(inputs).to(device), Variable(labels).to(device)\n",
        "\n",
        "            losses.append(model_step(model, optimizer, criterion, inputs, labels))\n",
        "            lips.append(optimizer.get_lipsitz_const())\n",
        "        \n",
        "        if ep % print_every == 0:\n",
        "            print(\"Epoch {}, loss {}, time passed {}\".format(ep, sum(losses[-i:]) / i, time_since(start_time)))\n",
        "            print(\"Lipsitz constant {}\".format(optimizer.get_lipsitz_const()))\n",
        "\n",
        "    return losses, lips"
      ],
      "execution_count": 0,
      "outputs": []
    },
    {
      "metadata": {
        "id": "Sz4svVB3vNyZ",
        "colab_type": "code",
        "colab": {}
      },
      "cell_type": "code",
      "source": [
        "print_every = 1\n",
        "n_epochs = 20\n",
        "losses = {}\n",
        "losses['sgd'] = {}\n",
        "lrs = [0.01, 0.005]\n",
        "criterion = nn.CrossEntropyLoss(reduction=\"mean\")"
      ],
      "execution_count": 0,
      "outputs": []
    },
    {
      "metadata": {
        "id": "KlkSl5x-vPRW",
        "colab_type": "code",
        "colab": {
          "base_uri": "https://localhost:8080/",
          "height": 731
        },
        "outputId": "b2e4e330-a39a-41f4-cdbe-06d86c22aa03"
      },
      "cell_type": "code",
      "source": [
        "for lr in lrs:\n",
        "  print(\"Trining for SGD lr={}, momentum=0.\".format(lr))\n",
        "  net = Net()\n",
        "  optimizer = optim.SGD(net.parameters(), lr=lr, momentum=0.)\n",
        "  losses['sgd'][lr] = train(net, trainloader, criterion, optimizer, n_epochs=n_epochs, print_every=print_every)"
      ],
      "execution_count": 18,
      "outputs": [
        {
          "output_type": "stream",
          "text": [
            "Trining for SGD lr=0.01, momentum=0.\n",
            "Epoch 0, loss 0.36580407882946414, time passed 0m 34s\n",
            "Epoch 1, loss 0.174382395943496, time passed 1m 8s\n",
            "Epoch 2, loss 0.12343576740237806, time passed 1m 41s\n",
            "Epoch 3, loss 0.09451616586498503, time passed 2m 16s\n",
            "Epoch 4, loss 0.07664835908443295, time passed 2m 49s\n",
            "Epoch 5, loss 0.06389725618588463, time passed 3m 25s\n",
            "Epoch 6, loss 0.05443861447729201, time passed 3m 58s\n",
            "Epoch 7, loss 0.04666706029713428, time passed 4m 33s\n",
            "Epoch 8, loss 0.04015328068639113, time passed 5m 10s\n",
            "Epoch 9, loss 0.03512205968054782, time passed 5m 44s\n",
            "Epoch 10, loss 0.030742327808038306, time passed 6m 19s\n",
            "Epoch 11, loss 0.02680412347145546, time passed 6m 52s\n",
            "Epoch 12, loss 0.02368735154793019, time passed 7m 27s\n",
            "Epoch 13, loss 0.020776861671193678, time passed 8m 0s\n",
            "Epoch 14, loss 0.018082037732016047, time passed 8m 35s\n",
            "Epoch 15, loss 0.016528789437097728, time passed 9m 9s\n",
            "Epoch 16, loss 0.014567439802822029, time passed 9m 44s\n",
            "Epoch 17, loss 0.012790149569916752, time passed 10m 20s\n",
            "Epoch 18, loss 0.011549448365330322, time passed 10m 54s\n",
            "Epoch 19, loss 0.010450318114933502, time passed 11m 29s\n",
            "Trining for SGD lr=0.005, momentum=0.\n",
            "Epoch 0, loss 0.4646671858737688, time passed 0m 33s\n",
            "Epoch 1, loss 0.2424967513298049, time passed 1m 8s\n",
            "Epoch 2, loss 0.18523371592387572, time passed 1m 40s\n",
            "Epoch 3, loss 0.1496929938641856, time passed 2m 14s\n",
            "Epoch 4, loss 0.12559762970631388, time passed 2m 47s\n",
            "Epoch 5, loss 0.10794704280636201, time passed 3m 20s\n",
            "Epoch 6, loss 0.09485530629739164, time passed 3m 56s\n",
            "Epoch 7, loss 0.08396205456068186, time passed 4m 28s\n",
            "Epoch 8, loss 0.07519068672216862, time passed 5m 3s\n",
            "Epoch 9, loss 0.06770109123321794, time passed 5m 37s\n",
            "Epoch 10, loss 0.06166416113754457, time passed 6m 10s\n",
            "Epoch 11, loss 0.05636432967994108, time passed 6m 44s\n",
            "Epoch 12, loss 0.05154409138899945, time passed 7m 17s\n",
            "Epoch 13, loss 0.047617944137391524, time passed 7m 51s\n",
            "Epoch 14, loss 0.04382554484062238, time passed 8m 24s\n",
            "Epoch 15, loss 0.04084026763833231, time passed 9m 0s\n",
            "Epoch 16, loss 0.03782632622299802, time passed 9m 33s\n",
            "Epoch 17, loss 0.034931838524342375, time passed 10m 6s\n",
            "Epoch 18, loss 0.03262077927732477, time passed 10m 41s\n",
            "Epoch 19, loss 0.030405918380261833, time passed 11m 14s\n"
          ],
          "name": "stdout"
        }
      ]
    },
    {
      "metadata": {
        "id": "aXvkBY5PvlEa",
        "colab_type": "code",
        "colab": {}
      },
      "cell_type": "code",
      "source": [
        "l_0 = 2"
      ],
      "execution_count": 0,
      "outputs": []
    },
    {
      "metadata": {
        "id": "ODga9MkTvnRl",
        "colab_type": "code",
        "colab": {
          "base_uri": "https://localhost:8080/",
          "height": 697
        },
        "outputId": "97e94bc7-f383-492d-ec42-84e94027c275"
      },
      "cell_type": "code",
      "source": [
        "net = Net()\n",
        "optimizer = SUG(net.parameters(), l_0=l_0, momentum=0.)\n",
        "losses['sug'], lips = train_lips(net, trainloader, criterion, optimizer, n_epochs=n_epochs, print_every=print_every)"
      ],
      "execution_count": 21,
      "outputs": [
        {
          "output_type": "stream",
          "text": [
            "Epoch 0, loss 0.203265562439944, time passed 1m 9s\n",
            "Lipsitz constant 8.0\n",
            "Epoch 1, loss 0.09067485415186037, time passed 2m 16s\n",
            "Lipsitz constant 4.0\n",
            "Epoch 2, loss 0.06261476206933668, time passed 3m 22s\n",
            "Lipsitz constant 4.0\n",
            "Epoch 3, loss 0.046829636625166184, time passed 4m 27s\n",
            "Lipsitz constant 8.0\n",
            "Epoch 4, loss 0.036787328918629215, time passed 5m 30s\n",
            "Lipsitz constant 2.0\n",
            "Epoch 5, loss 0.02969363037129467, time passed 6m 34s\n",
            "Lipsitz constant 8.0\n",
            "Epoch 6, loss 0.02390702867263142, time passed 7m 37s\n",
            "Lipsitz constant 2.0\n",
            "Epoch 7, loss 0.020005289503189475, time passed 8m 39s\n",
            "Lipsitz constant 2.0\n",
            "Epoch 8, loss 0.01688876032980293, time passed 9m 41s\n",
            "Lipsitz constant 32.0\n",
            "Epoch 9, loss 0.013924624659361954, time passed 10m 41s\n",
            "Lipsitz constant 2.0\n",
            "Epoch 10, loss 0.012038456888165154, time passed 11m 43s\n",
            "Lipsitz constant 4.0\n",
            "Epoch 11, loss 0.010798177104591092, time passed 12m 44s\n",
            "Lipsitz constant 2.0\n",
            "Epoch 12, loss 0.009075291618218986, time passed 13m 44s\n",
            "Lipsitz constant 8.0\n",
            "Epoch 13, loss 0.007791298128333169, time passed 14m 43s\n",
            "Lipsitz constant 4.0\n",
            "Epoch 14, loss 0.007329444470695833, time passed 15m 42s\n",
            "Lipsitz constant 2.0\n",
            "Epoch 15, loss 0.006401839665758092, time passed 16m 43s\n",
            "Lipsitz constant 2.0\n",
            "Epoch 16, loss 0.005541446574712341, time passed 17m 41s\n",
            "Lipsitz constant 2.0\n",
            "Epoch 17, loss 0.0048213148444515444, time passed 18m 39s\n",
            "Lipsitz constant 2.0\n",
            "Epoch 18, loss 0.004562044145266321, time passed 19m 37s\n",
            "Lipsitz constant 2.0\n",
            "Epoch 19, loss 0.004070680477959497, time passed 20m 35s\n",
            "Lipsitz constant 2.0\n"
          ],
          "name": "stdout"
        }
      ]
    },
    {
      "metadata": {
        "id": "j9KdsTxPP-9r",
        "colab_type": "code",
        "colab": {
          "base_uri": "https://localhost:8080/",
          "height": 119
        },
        "outputId": "6b246fd9-d584-41e0-a301-656febd24966"
      },
      "cell_type": "code",
      "source": [
        "trainloader.dataset"
      ],
      "execution_count": 27,
      "outputs": [
        {
          "output_type": "execute_result",
          "data": {
            "text/plain": [
              "Dataset MNIST\n",
              "    Number of datapoints: 60000\n",
              "    Split: train\n",
              "    Root Location: /tmp\n",
              "    Transforms (if any): ToTensor()\n",
              "    Target Transforms (if any): None"
            ]
          },
          "metadata": {
            "tags": []
          },
          "execution_count": 27
        }
      ]
    },
    {
      "metadata": {
        "id": "VR4-1_64QDeW",
        "colab_type": "code",
        "colab": {}
      },
      "cell_type": "code",
      "source": [
        "batchs_per_epoch = 60000 // BATCH_SIZE"
      ],
      "execution_count": 0,
      "outputs": []
    },
    {
      "metadata": {
        "id": "KhVTVEm5QOiQ",
        "colab_type": "code",
        "colab": {
          "base_uri": "https://localhost:8080/",
          "height": 446
        },
        "outputId": "9bf59833-e56a-46df-8ad0-578cde0e0d9d"
      },
      "cell_type": "code",
      "source": [
        "figure = plt.figure(figsize=(10,7))\n",
        "for lr in lrs:\n",
        "    plt.plot([np.mean(losses['sgd'][lr][i:i+200]) for i in range(len(losses['sgd'][lr])-200)], label='sgd'+str(lr))\n",
        "plt.plot([np.mean(losses['sug'][i:i+200]) for i in range(len(losses['sug'])-200)], label=\"sug\")\n",
        "plt.xlabel(\"# of batch\")\n",
        "plt.ylabel(\"loss\")\n",
        "plt.legend()\n",
        "plt.show()"
      ],
      "execution_count": 30,
      "outputs": [
        {
          "output_type": "display_data",
          "data": {
            "image/png": "[encoded data removed]",
            "text/plain": [
              "<Figure size 720x504 with 1 Axes>"
            ]
          },
          "metadata": {
            "tags": []
          }
        }
      ]
    },
    {
      "metadata": {
        "id": "t5CNU0POQRME",
        "colab_type": "code",
        "colab": {
          "base_uri": "https://localhost:8080/",
          "height": 446
        },
        "outputId": "7b812935-c9d9-4165-d494-a76a01001ec4"
      },
      "cell_type": "code",
      "source": [
        "figure = plt.figure(figsize=(10,7))\n",
        "for lr in lrs:\n",
        "    plt.plot([sum(losses['sgd'][lr][i*batchs_per_epoch:(i+1)*batchs_per_epoch])/batchs_per_epoch for i in range(n_epochs)], label='sgd'+str(lr))\n",
        "plt.plot([sum(losses['sug'][i*batchs_per_epoch:(i+1)*batchs_per_epoch])/batchs_per_epoch for i in range(n_epochs)], label=\"sug\")\n",
        "plt.xlabel(\"# of batch\")\n",
        "plt.ylabel(\"loss\")\n",
        "plt.legend()\n",
        "plt.show()"
      ],
      "execution_count": 33,
      "outputs": [
        {
          "output_type": "display_data",
          "data": {
            "image/png": "[encoded data removed]",
            "text/plain": [
              "<Figure size 720x504 with 1 Axes>"
            ]
          },
          "metadata": {
            "tags": []
          }
        }
      ]
    },
    {
      "metadata": {
        "id": "Pz_Tgh-eQYdH",
        "colab_type": "code",
        "colab": {
          "base_uri": "https://localhost:8080/",
          "height": 295
        },
        "outputId": "094ebe1d-d99c-45bb-8ec0-b9783e23acb8"
      },
      "cell_type": "code",
      "source": [
        "smooth_over = 50\n",
        "smooth_lips = [np.mean(lips[i:i+smooth_over]) for i in range(len(lips)-smooth_over)]\n",
        "\n",
        "plt.plot(smooth_lips)\n",
        "plt.title(\"Mean Lipsitz constant of gradient  over {} batches\".format(smooth_over))\n",
        "plt.xlabel(\"# of batch\")\n",
        "plt.ylabel(\"L\")\n",
        "#plt.legend()\n",
        "plt.show()"
      ],
      "execution_count": 34,
      "outputs": [
        {
          "output_type": "display_data",
          "data": {
            "image/png": "[encoded data removed]",
            "text/plain": [
              "<Figure size 432x288 with 1 Axes>"
            ]
          },
          "metadata": {
            "tags": []
          }
        }
      ]
    },
    {
      "metadata": {
        "id": "fIKZUVTnQbRR",
        "colab_type": "code",
        "colab": {
          "base_uri": "https://localhost:8080/",
          "height": 295
        },
        "outputId": "5f00e736-c971-4cc9-cada-9da468bdc73f"
      },
      "cell_type": "code",
      "source": [
        "smooth_over = 500\n",
        "smooth_lips = [np.mean(lips[i:i+smooth_over]) for i in range(len(lips)-smooth_over)]\n",
        "\n",
        "plt.plot(smooth_lips)\n",
        "plt.title(\"Mean Lipsitz constant of gradient  over {} batches\".format(smooth_over))\n",
        "plt.xlabel(\"# of batch\")\n",
        "plt.ylabel(\"L\")\n",
        "#plt.legend()\n",
        "plt.show()"
      ],
      "execution_count": 35,
      "outputs": [
        {
          "output_type": "display_data",
          "data": {
            "image/png": "[encoded data removed]",
            "text/plain": [
              "<Figure size 432x288 with 1 Axes>"
            ]
          },
          "metadata": {
            "tags": []
          }
        }
      ]
    },
    {
      "metadata": {
        "id": "VLS3NsYFQjHz",
        "colab_type": "code",
        "colab": {
          "base_uri": "https://localhost:8080/",
          "height": 295
        },
        "outputId": "281eea87-12c0-4726-dc11-64e9ec462b99"
      },
      "cell_type": "code",
      "source": [
        "smooth_over = 5000\n",
        "smooth_lips = [np.mean(lips[i:i+smooth_over]) for i in range(len(lips)-smooth_over)]\n",
        "\n",
        "plt.plot(np.log(smooth_lips))\n",
        "plt.title(\"Log of Lipsitz constant of gradient per batch\")\n",
        "plt.xlabel(\"# of batch\")\n",
        "plt.ylabel(\"log L\")\n",
        "#plt.legend()\n",
        "plt.show()"
      ],
      "execution_count": 36,
      "outputs": [
        {
          "output_type": "display_data",
          "data": {
            "image/png": "[encoded data removed]",
            "text/plain": [
              "<Figure size 432x288 with 1 Axes>"
            ]
          },
          "metadata": {
            "tags": []
          }
        }
      ]
    },
    {
      "metadata": {
        "id": "XOM2HrZpvsaJ",
        "colab_type": "code",
        "colab": {
          "base_uri": "https://localhost:8080/",
          "height": 269
        },
        "outputId": "6b4da8a2-7d33-47b2-ba4f-bbc0a7885836"
      },
      "cell_type": "code",
      "source": [
        "import seaborn as sns\n",
        "\n",
        "sns.distplot(lips, kde=False);"
      ],
      "execution_count": 37,
      "outputs": [
        {
          "output_type": "display_data",
          "data": {
            "image/png": "[encoded data removed]",
            "text/plain": [
              "<Figure size 432x288 with 1 Axes>"
            ]
          },
          "metadata": {
            "tags": []
          }
        }
      ]
    },
    {
      "metadata": {
        "id": "SWDm0xJKDyyW",
        "colab_type": "code",
        "colab": {}
      },
      "cell_type": "code",
      "source": [
        ""
      ],
      "execution_count": 0,
      "outputs": []
    }
  ]
}