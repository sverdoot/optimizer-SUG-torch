{
  "nbformat": 4,
  "nbformat_minor": 0,
  "metadata": {
    "colab": {
      "name": "MNIST.ipynb",
      "version": "0.3.2",
      "provenance": [],
      "collapsed_sections": [],
      "toc_visible": true,
      "include_colab_link": true
    },
    "kernelspec": {
      "name": "python3",
      "display_name": "Python 3"
    },
    "accelerator": "GPU"
  },
  "cells": [
    {
      "cell_type": "markdown",
      "metadata": {
        "id": "view-in-github",
        "colab_type": "text"
      },
      "source": [
        "<a href=\"https://colab.research.google.com/github/sverdoot/optimizer-SUG-torch/blob/master/MNIST.ipynb\" target=\"_parent\"><img src=\"https://colab.research.google.com/assets/colab-badge.svg\" alt=\"Open In Colab\"/></a>"
      ]
    },
    {
      "metadata": {
        "colab_type": "code",
        "id": "_ni0nMDcukyV",
        "outputId": "8ac44723-fbd2-4c7a-9b93-e9735593874f",
        "colab": {
          "base_uri": "https://localhost:8080/",
          "height": 54
        }
      },
      "cell_type": "code",
      "source": [
        "from google.colab import drive\n",
        "drive.mount('/content/drive')"
      ],
      "execution_count": 3,
      "outputs": [
        {
          "output_type": "stream",
          "text": [
            "Drive already mounted at /content/drive; to attempt to forcibly remount, call drive.mount(\"/content/drive\", force_remount=True).\n"
          ],
          "name": "stdout"
        }
      ]
    },
    {
      "metadata": {
        "colab_type": "code",
        "id": "p-4vBJwaukwk",
        "colab": {}
      },
      "cell_type": "code",
      "source": [
        "import os\n",
        "os.chdir(\"/content/drive/My Drive/Colab Notebooks/Optimization project\")\n",
        "os.getcwd()\n",
        "\n",
        "file_path = \"./MNIST\"\n",
        "\n",
        "try:\n",
        "    os.stat(file_path)\n",
        "except:\n",
        "    os.mkdir(file_path)       "
      ],
      "execution_count": 0,
      "outputs": []
    },
    {
      "metadata": {
        "id": "QzSdhyDLASJJ",
        "colab_type": "code",
        "colab": {}
      },
      "cell_type": "code",
      "source": [
        "from sug import *"
      ],
      "execution_count": 0,
      "outputs": []
    },
    {
      "metadata": {
        "id": "fiSHwkvZumRd",
        "colab_type": "code",
        "colab": {}
      },
      "cell_type": "code",
      "source": [
        "%matplotlib inline\n",
        "import torch\n",
        "from torch import nn\n",
        "from torch import optim\n",
        "from torch.autograd import Variable\n",
        "from torch.utils.data.sampler import SubsetRandomSampler\n",
        "import torch.nn.functional as F\n",
        "import torch.optim as optim\n",
        "\n",
        "import torchvision\n",
        "import torchvision.transforms as transforms\n",
        "\n",
        "import matplotlib.pyplot as plt\n",
        "import numpy as np\n",
        "\n",
        "import time"
      ],
      "execution_count": 0,
      "outputs": []
    },
    {
      "metadata": {
        "id": "p2Mo1UdyumT9",
        "colab_type": "code",
        "outputId": "f14053f0-1237-42a4-f9ee-f5c16460b496",
        "colab": {
          "base_uri": "https://localhost:8080/",
          "height": 34
        }
      },
      "cell_type": "code",
      "source": [
        "device = torch.device(\"cuda:0\" if torch.cuda.is_available() else \"cpu\")\n",
        "\n",
        "device"
      ],
      "execution_count": 7,
      "outputs": [
        {
          "output_type": "execute_result",
          "data": {
            "text/plain": [
              "device(type='cuda', index=0)"
            ]
          },
          "metadata": {
            "tags": []
          },
          "execution_count": 7
        }
      ]
    },
    {
      "metadata": {
        "id": "W6Lk5gvGu1Yc",
        "colab_type": "text"
      },
      "cell_type": "markdown",
      "source": [
        "## Data"
      ]
    },
    {
      "metadata": {
        "id": "aSGMNymTW5L8",
        "colab_type": "code",
        "colab": {}
      },
      "cell_type": "code",
      "source": [
        "batch_size = 4"
      ],
      "execution_count": 0,
      "outputs": []
    },
    {
      "metadata": {
        "id": "_rk3Q_Jku2by",
        "colab_type": "code",
        "colab": {}
      },
      "cell_type": "code",
      "source": [
        "transform = transforms.Compose(\n",
        "    [transforms.ToTensor(),\n",
        "     transforms.Normalize((0.5,), (0.5,))])\n",
        "\n",
        "trainset = torchvision.datasets.MNIST(root='./data', train=True,\n",
        "                                        download=True, transform=transform)\n",
        "\n",
        "valid_dataset = torchvision.datasets.MNIST(root='/data', train=True, \n",
        "                                        download=True, transform=transform)\n",
        "\n",
        "testset = torchvision.datasets.MNIST(root='./data', train=False,\n",
        "                                        download=True, transform=transform)\n",
        "testloader = torch.utils.data.DataLoader(testset, batch_size=batch_size,\n",
        "                                         shuffle=False, num_workers=2)"
      ],
      "execution_count": 0,
      "outputs": []
    },
    {
      "metadata": {
        "id": "bYLS8LcHWv7n",
        "colab_type": "code",
        "colab": {}
      },
      "cell_type": "code",
      "source": [
        "valid_size=0.15\n",
        "num_train = len(trainset)\n",
        "indices = list(range(num_train))\n",
        "split = int(np.floor(valid_size * num_train))\n",
        "\n",
        "np.random.seed(42)\n",
        "np.random.shuffle(indices)\n",
        "\n",
        "train_idx, valid_idx = indices[split:], indices[:split]\n",
        "\n",
        "train_sampler = SubsetRandomSampler(train_idx)\n",
        "valid_sampler = SubsetRandomSampler(valid_idx)\n",
        "\n",
        "trainloader = torch.utils.data.DataLoader(trainset, \n",
        "               batch_size=batch_size, sampler=train_sampler,\n",
        "               num_workers=2)\n",
        "\n",
        "validloader = torch.utils.data.DataLoader(valid_dataset, \n",
        "               batch_size=batch_size, sampler=valid_sampler,\n",
        "               num_workers=2)"
      ],
      "execution_count": 0,
      "outputs": []
    },
    {
      "metadata": {
        "id": "7j9cjtv5u57l",
        "colab_type": "code",
        "outputId": "2d6a7e4b-aa09-49fd-9dbd-d0e3f65ff814",
        "colab": {
          "base_uri": "https://localhost:8080/",
          "height": 190
        }
      },
      "cell_type": "code",
      "source": [
        "def show_batch(batch):\n",
        "    im = torchvision.utils.make_grid(batch)\n",
        "    plt.imshow(np.transpose(im.numpy(), (1, 2, 0)))\n",
        "    \n",
        "dataiter = iter(trainloader)\n",
        "images, labels = dataiter.next()\n",
        "\n",
        "print('Labels: ', labels)\n",
        "print('Batch shape: ', images.size())\n",
        "show_batch(images)"
      ],
      "execution_count": 11,
      "outputs": [
        {
          "output_type": "stream",
          "text": [
            "Clipping input data to the valid range for imshow with RGB data ([0..1] for floats or [0..255] for integers).\n"
          ],
          "name": "stderr"
        },
        {
          "output_type": "stream",
          "text": [
            "Labels:  tensor([9, 6, 7, 7])\n",
            "Batch shape:  torch.Size([4, 1, 28, 28])\n"
          ],
          "name": "stdout"
        },
        {
          "output_type": "display_data",
          "data": {
            "image/png": "[encoded data removed]",
            "text/plain": [
              "<Figure size 432x288 with 1 Axes>"
            ]
          },
          "metadata": {
            "tags": []
          }
        }
      ]
    },
    {
      "metadata": {
        "id": "THk9uDZku-gM",
        "colab_type": "text"
      },
      "cell_type": "markdown",
      "source": [
        "## Models"
      ]
    },
    {
      "metadata": {
        "id": "pnS_0OICbHF4",
        "colab_type": "text"
      },
      "cell_type": "markdown",
      "source": [
        "#### Logistic Regression"
      ]
    },
    {
      "metadata": {
        "id": "H6micuYGbGOL",
        "colab_type": "code",
        "colab": {}
      },
      "cell_type": "code",
      "source": [
        "class LR(nn.Module):\n",
        "    def __init__(self):\n",
        "        super(LR, self).__init__()\n",
        "        self.linear1 = nn.Linear(28*28, 10)\n",
        "\n",
        "    def forward(self, x):\n",
        "        y_pred = F.log_softmax(self.linear1(x.view(batch_size, -1)), -1)\n",
        "        return y_pred"
      ],
      "execution_count": 0,
      "outputs": []
    },
    {
      "metadata": {
        "id": "A4rjRazJa-S6",
        "colab_type": "text"
      },
      "cell_type": "markdown",
      "source": [
        "###   FC"
      ]
    },
    {
      "metadata": {
        "id": "uh3HnmUmu96Q",
        "colab_type": "code",
        "colab": {}
      },
      "cell_type": "code",
      "source": [
        "class FC(nn.Module):\n",
        "    def __init__(self):\n",
        "        super(FC, self).__init__()\n",
        "        self.linear1 = nn.Linear(28*28, 256)\n",
        "        self.linear2 = nn.Linear(256, 10)\n",
        "\n",
        "    def forward(self, x):\n",
        "        h_relu = F.relu(self.linear1(x.view(batch_size, -1)))\n",
        "        y_pred = self.linear2(h_relu)\n",
        "        return y_pred"
      ],
      "execution_count": 0,
      "outputs": []
    },
    {
      "metadata": {
        "id": "xz0yOQOSbArU",
        "colab_type": "text"
      },
      "cell_type": "markdown",
      "source": [
        "### Conv"
      ]
    },
    {
      "metadata": {
        "id": "QKUu1qZta7el",
        "colab_type": "code",
        "colab": {}
      },
      "cell_type": "code",
      "source": [
        "class CNN(nn.Module):\n",
        "    def __init__(self):\n",
        "        super(CNN, self).__init__()\n",
        "        self.conv1 = nn.Conv2d(1, 32, kernel_size=5)\n",
        "        self.conv2 = nn.Conv2d(32, 32, kernel_size=5)\n",
        "        self.conv3 = nn.Conv2d(32,64, kernel_size=5)\n",
        "        self.fc1 = nn.Linear(3*3*64, 256)\n",
        "        self.fc2 = nn.Linear(256, 10)\n",
        "\n",
        "    def forward(self, x):\n",
        "        x = F.relu(self.conv1(x))\n",
        "        #x = F.dropout(x, p=0.5, training=self.training)\n",
        "        x = F.relu(F.max_pool2d(self.conv2(x), 2))\n",
        "        x = F.dropout(x, p=0.5, training=self.training)\n",
        "        x = F.relu(F.max_pool2d(self.conv3(x),2))\n",
        "        x = F.dropout(x, p=0.5, training=self.training)\n",
        "        x = x.view(-1,3*3*64 )\n",
        "        x = F.relu(self.fc1(x))\n",
        "        x = F.dropout(x, training=self.training)\n",
        "        x = self.fc2(x)\n",
        "        return F.log_softmax(x, dim=1)"
      ],
      "execution_count": 0,
      "outputs": []
    },
    {
      "metadata": {
        "id": "-SSTdIH_vKV5",
        "colab_type": "text"
      },
      "cell_type": "markdown",
      "source": [
        "## Train"
      ]
    },
    {
      "metadata": {
        "id": "nMttjLlZrbcd",
        "colab_type": "code",
        "colab": {}
      },
      "cell_type": "code",
      "source": [
        "def time_since(since):\n",
        "    s = time.time() - since\n",
        "    m = math.floor(s / 60)\n",
        "    s -= m * 60\n",
        "    return '%dm %ds' % (m, s)\n",
        "\n",
        "\n",
        "def model_step(model, optimizer, criterion, inputs, labels):\n",
        "    outputs = model(inputs)\n",
        "    loss = criterion(outputs, labels)\n",
        "\n",
        "    if model.training:\n",
        "        optimizer.zero_grad()\n",
        "        loss.backward(retain_graph=True)\n",
        "    if optimizer.__class__.__name__ != 'SUG':\n",
        "        optimizer.step()\n",
        "    else:\n",
        "        def closure():\n",
        "            optimizer.zero_grad()\n",
        "            upd_outputs = model(inputs)\n",
        "            upd_loss = criterion(upd_outputs, labels)\n",
        "            upd_loss.backward()\n",
        "            return upd_loss\n",
        "\n",
        "        optimizer.step(loss, closure)\n",
        "\n",
        "    return loss.item()"
      ],
      "execution_count": 0,
      "outputs": []
    },
    {
      "metadata": {
        "id": "MMgATVQnvIiy",
        "colab_type": "code",
        "colab": {}
      },
      "cell_type": "code",
      "source": [
        "def train(model, trainloader, criterion, optimizer, n_epochs=2, validloader=None, eps=1e-5, print_every=1):\n",
        "    tr_loss, val_loss, lips, times, grad, acc = ([] for i in range(6))\n",
        "    start_time = time.time()\n",
        "    model.to(device=device)\n",
        "    for ep in range(n_epochs):\n",
        "        model.train()\n",
        "        i = 0\n",
        "        for i, data in enumerate(trainloader):\n",
        "            inputs, labels = data\n",
        "            inputs, labels = Variable(inputs).to(device=device), Variable(labels).to(device=device)\n",
        "\n",
        "            tr_loss.append(model_step(model, optimizer, criterion, inputs, labels))\n",
        "            if optimizer.__class__.__name__ == 'SUG':\n",
        "                lips.append(optimizer.get_lipsitz_const())\n",
        "                grad.append(optimizer.get_sq_grad)\n",
        "        times.append(time_since(start_time))\n",
        "        if ep % print_every == 0:\n",
        "            print(\"Epoch {}, training loss {}, time passed {}\".format(ep, sum(tr_loss[-i:]) / i, time_since(start_time)))\n",
        "\n",
        "        if validloader is None:\n",
        "            continue\n",
        "        model.zero_grad()\n",
        "        model.eval()\n",
        "        j = 0\n",
        "        for j, data in enumerate(validloader):\n",
        "            inputs, labels = data\n",
        "            inputs, labels = inputs.to(device=device), labels.to(device=device)\n",
        "            val_loss.append(model_step(model, optimizer, criterion, inputs, labels))\n",
        "        if ep % print_every == 0:\n",
        "            print(\"Validation loss {}\".format(sum(val_loss[-j:]) / j))\n",
        "        \n",
        "    return tr_loss, times, val_loss, lips, grad"
      ],
      "execution_count": 0,
      "outputs": []
    },
    {
      "metadata": {
        "id": "Sz4svVB3vNyZ",
        "colab_type": "code",
        "colab": {}
      },
      "cell_type": "code",
      "source": [
        "print_every = 4\n",
        "n_epochs = 10\n",
        "tr_loss = {}\n",
        "tr_loss['sgd'] = {}\n",
        "val_loss = {}\n",
        "val_loss['sgd'] = {}\n",
        "lrs = [0.05, 0.01, 0.005]\n",
        "criterion = nn.CrossEntropyLoss(reduction=\"mean\")"
      ],
      "execution_count": 0,
      "outputs": []
    },
    {
      "metadata": {
        "id": "B6jCFM66X7ql",
        "colab_type": "code",
        "colab": {}
      },
      "cell_type": "code",
      "source": [
        "def concat_states(state1, state2):\n",
        "    states = {\n",
        "            'epoch': state1['epoch'] + state2['epoch'],\n",
        "            'state_dict': state2['state_dict'],\n",
        "            'optimizer': state2['optimizer'],\n",
        "            'tr_loss' : state1['tr_loss'] + state2['tr_loss'],\n",
        "            'val_loss' : state1['val_loss'] + state2['val_loss'],\n",
        "            'lips' : state1['lips'] + state2['lips'],\n",
        "            'grad' : state1['grad'] + state2['grad'],\n",
        "            #'times' : state1['times'] + list(map(lambda x: x + state1['times'][-1],state2['times']))\n",
        "             'times' : state1['times'] + state2['times']\n",
        "             }\n",
        "    return states"
      ],
      "execution_count": 0,
      "outputs": []
    },
    {
      "metadata": {
        "id": "98EHtawSzoTM",
        "colab_type": "text"
      },
      "cell_type": "markdown",
      "source": [
        "###LR"
      ]
    },
    {
      "metadata": {
        "id": "hTMWs2dYznyO",
        "colab_type": "code",
        "outputId": "01e33386-4143-4fe1-ead2-ef3ccd13cea8",
        "colab": {
          "base_uri": "https://localhost:8080/",
          "height": 374
        }
      },
      "cell_type": "code",
      "source": [
        "for lr in lrs:\n",
        "  model = LR()\n",
        "  print(\"SGD  lr={}, momentum=0. :\".format(lr))\n",
        "  optimizer = optim.SGD(model.parameters(), lr=lr, momentum=0.)\n",
        "  tr_loss['sgd'][lr], times, val_loss['sgd'][lr], lips, grad = train(model, trainloader, criterion, optimizer, n_epochs=n_epochs, print_every=print_every, validloader=validloader)\n",
        "  states = {\n",
        "            'epoch': n_epochs,\n",
        "            'state_dict': model.state_dict(),\n",
        "            'optimizer': optimizer.state_dict(),\n",
        "            'tr_loss' : tr_loss['sgd'][lr],\n",
        "            'val_loss' : val_loss['sgd'][lr],\n",
        "            'lips' : lips,\n",
        "            'grad' : grad,\n",
        "            'times' : times\n",
        "             }\n",
        "  torch.save(states, './MNIST/LR_' + str(lr))"
      ],
      "execution_count": 0,
      "outputs": [
        {
          "output_type": "stream",
          "text": [
            "SGD  lr=0.05, momentum=0. :\n",
            "Epoch 0, training loss 1.1831175889721082, time passed 0m 38s\n",
            "Validation loss 1.7346817483001529\n",
            "Epoch 4, training loss 0.9851548817687289, time passed 3m 6s\n",
            "Validation loss 0.9243420956190447\n",
            "Epoch 8, training loss 0.9310133712944944, time passed 5m 36s\n",
            "Validation loss 1.1689711035859476\n",
            "SGD  lr=0.01, momentum=0. :\n",
            "Epoch 0, training loss 0.41623996844117783, time passed 0m 32s\n",
            "Validation loss 0.32225607072639145\n",
            "Epoch 4, training loss 0.32428377992083196, time passed 2m 56s\n",
            "Validation loss 0.3230409316380277\n",
            "Epoch 8, training loss 0.31112885381527805, time passed 5m 22s\n",
            "Validation loss 0.3265203488063716\n",
            "SGD  lr=0.005, momentum=0. :\n",
            "Epoch 0, training loss 0.4129749693272001, time passed 0m 30s\n",
            "Validation loss 0.34086438555364335\n",
            "Epoch 4, training loss 0.29709475929701606, time passed 2m 55s\n",
            "Validation loss 0.29196425313139596\n",
            "Epoch 8, training loss 0.2841329223229156, time passed 5m 20s\n",
            "Validation loss 0.2948868198833449\n"
          ],
          "name": "stdout"
        }
      ]
    },
    {
      "metadata": {
        "id": "b1CbtL-F0xaF",
        "colab_type": "code",
        "colab": {}
      },
      "cell_type": "code",
      "source": [
        "l_0 = 2\n",
        "model = LR()\n",
        "optimizer = SUG(model.parameters(), l_0=l_0, momentum=0.)\n",
        "tr_loss['sug'], times, val_loss['sug'], lips, grad = train(model, trainloader, criterion, optimizer, n_epochs=n_epochs, print_every=print_every, validloader=validloader)\n",
        "states = {\n",
        "            'epoch': n_epochs,\n",
        "            'state_dict': model.state_dict(),\n",
        "            'optimizer': optimizer.state_dict(),\n",
        "            'tr_loss' : tr_loss['sug'],\n",
        "            'val_loss' : val_loss['sug'],\n",
        "            'lips' : lips,\n",
        "            'grad' : grad,\n",
        "            'times' : times\n",
        "         }\n",
        "torch.save(states, './MNIST/LR_sug')"
      ],
      "execution_count": 0,
      "outputs": []
    },
    {
      "metadata": {
        "id": "uJ24b8FFpIQU",
        "colab_type": "text"
      },
      "cell_type": "markdown",
      "source": [
        "### FC"
      ]
    },
    {
      "metadata": {
        "id": "zBxqCh7YEOok",
        "colab_type": "code",
        "colab": {}
      },
      "cell_type": "code",
      "source": [
        "n_epochs = 12"
      ],
      "execution_count": 0,
      "outputs": []
    },
    {
      "metadata": {
        "id": "KlkSl5x-vPRW",
        "colab_type": "code",
        "outputId": "0c739f08-c0ac-4326-b69d-870d51daa4a1",
        "colab": {
          "base_uri": "https://localhost:8080/",
          "height": 374
        }
      },
      "cell_type": "code",
      "source": [
        "for lr in lrs:\n",
        "  model = FC()\n",
        "  print(\"SGD  lr={}, momentum=0. :\".format(lr))\n",
        "  optimizer = optim.SGD(model.parameters(), lr=lr, momentum=0.)\n",
        "  tr_loss['sgd'][lr], times, val_loss['sgd'][lr], lips, grad = train(model, trainloader, criterion, optimizer, n_epochs=n_epochs, print_every=print_every, validloader=validloader)\n",
        "  states = {\n",
        "            'epoch': n_epochs,\n",
        "            'state_dict': model.state_dict(),\n",
        "            'optimizer': optimizer.state_dict(),\n",
        "            'tr_loss' : tr_loss['sgd'][lr],\n",
        "            'val_loss' : val_loss['sgd'][lr],\n",
        "            'lips' : lips,\n",
        "            'grad' : grad,\n",
        "            'times' : times\n",
        "             }\n",
        "  torch.save(states, './MNIST/FC_' + str(lr))"
      ],
      "execution_count": 0,
      "outputs": [
        {
          "output_type": "stream",
          "text": [
            "SGD  lr=0.05, momentum=0. :\n",
            "Epoch 0, training loss 0.2366863005871361, time passed 0m 29s\n",
            "Validation loss 0.11924165910008008\n",
            "Epoch 4, training loss 0.036543241790046185, time passed 2m 44s\n",
            "Validation loss 0.02659412257774187\n",
            "Epoch 8, training loss 0.009252302931265622, time passed 4m 57s\n",
            "Validation loss 0.007337128495894416\n",
            "SGD  lr=0.01, momentum=0. :\n",
            "Epoch 0, training loss 0.390318907132868, time passed 0m 28s\n",
            "Validation loss 0.21850812987732113\n",
            "Epoch 4, training loss 0.07997714770486358, time passed 2m 43s\n",
            "Validation loss 0.06550830985610355\n",
            "Epoch 8, training loss 0.04263166229681311, time passed 4m 59s\n",
            "Validation loss 0.0345691220396728\n",
            "SGD  lr=0.005, momentum=0. :\n",
            "Epoch 0, training loss 0.49476544181125587, time passed 0m 28s\n",
            "Validation loss 0.2863557395032906\n",
            "Epoch 4, training loss 0.13017870467198542, time passed 2m 44s\n",
            "Validation loss 0.11114349794313609\n",
            "Epoch 8, training loss 0.0772063676231337, time passed 4m 57s\n",
            "Validation loss 0.06647039221731384\n"
          ],
          "name": "stdout"
        }
      ]
    },
    {
      "metadata": {
        "id": "ODga9MkTvnRl",
        "colab_type": "code",
        "outputId": "e1949814-6533-4078-9b5e-cf193b98398f",
        "colab": {
          "base_uri": "https://localhost:8080/",
          "height": 119
        }
      },
      "cell_type": "code",
      "source": [
        "l_0 = 2\n",
        "model = FC()\n",
        "optimizer = SUG(model.parameters(), l_0=l_0, momentum=0.)\n",
        "tr_loss['sug'], times, val_loss['sug'], lips, grad = train(model, trainloader, criterion, optimizer, n_epochs=n_epochs, print_every=print_every, validloader=validloader)\n",
        "states = {\n",
        "            'epoch': n_epochs,\n",
        "            'state_dict': model.state_dict(),\n",
        "            'optimizer': optimizer.state_dict(),\n",
        "            'tr_loss' : tr_loss['sug'],\n",
        "            'val_loss' : val_loss['sug'],\n",
        "            'lips' : lips,\n",
        "            'grad' : grad,\n",
        "            'times' : times\n",
        "         }\n",
        "torch.save(states, './MNIST/FC_sug')"
      ],
      "execution_count": 0,
      "outputs": [
        {
          "output_type": "stream",
          "text": [
            "Epoch 0, training loss 0.2193387469148363, time passed 0m 59s\n",
            "Validation loss 0.11775196808452021\n",
            "Epoch 4, training loss 0.03766450093525402, time passed 5m 24s\n",
            "Validation loss 0.030662210186940927\n",
            "Epoch 8, training loss 0.017794447657136097, time passed 9m 37s\n",
            "Validation loss 0.013901273798232293\n"
          ],
          "name": "stdout"
        }
      ]
    },
    {
      "metadata": {
        "id": "2x_ieelg84rE",
        "colab_type": "text"
      },
      "cell_type": "markdown",
      "source": [
        "### CNN"
      ]
    },
    {
      "metadata": {
        "id": "PVXwssDp83x6",
        "colab_type": "code",
        "outputId": "c9eb5444-4fb2-48d1-a8ff-f2359ee858fe",
        "colab": {
          "base_uri": "https://localhost:8080/",
          "height": 187
        }
      },
      "cell_type": "code",
      "source": [
        "for lr in lrs:\n",
        "  model = CNN()\n",
        "  print(\"SGD  lr={}, momentum=0. :\".format(lr))\n",
        "  optimizer = optim.SGD(model.parameters(), lr=lr, momentum=0.)\n",
        "  tr_loss['sgd'][lr], times, val_loss['sgd'][lr], lips, grad = train(model, trainloader, criterion, optimizer, n_epochs=n_epochs, print_every=print_every, validloader=validloader)\n",
        "  states = {\n",
        "            'epoch': n_epochs,\n",
        "            'state_dict': model.state_dict(),\n",
        "            'optimizer': optimizer.state_dict(),\n",
        "            'tr_loss' : tr_loss['sgd'][lr],\n",
        "            'val_loss' : val_loss['sgd'][lr],\n",
        "            'lips' : lips,\n",
        "            'grad' : grad,\n",
        "            'times' : times\n",
        "             }\n",
        "  torch.save(states, './MNIST/CNN_' + str(lr))"
      ],
      "execution_count": 0,
      "outputs": [
        {
          "output_type": "stream",
          "text": [
            "SGD  lr=0.01, momentum=0. :\n",
            "Epoch 0, training loss 0.30792822736959785, time passed 0m 50s\n",
            "Validation loss 0.13387587281877472\n",
            "Epoch 4, training loss 0.0733286956256355, time passed 4m 53s\n",
            "Validation loss 0.07147482255601184\n",
            "SGD  lr=0.005, momentum=0. :\n",
            "Epoch 0, training loss 0.37557755943024357, time passed 0m 55s\n",
            "Validation loss 0.1362349701132594\n",
            "Epoch 4, training loss 0.07144774527515312, time passed 4m 59s\n",
            "Validation loss 0.06511574609441027\n"
          ],
          "name": "stdout"
        }
      ]
    },
    {
      "metadata": {
        "id": "YTYmncEz87xM",
        "colab_type": "code",
        "colab": {}
      },
      "cell_type": "code",
      "source": [
        "l_0 = 2\n",
        "model = CNN()\n",
        "optimizer = SUG(model.parameters(), l_0=l_0, momentum=0.)\n",
        "tr_loss['sug'], times, val_loss['sug'], lips, grad = train(model, trainloader, criterion, optimizer, n_epochs=n_epochs, print_every=print_every, validloader=validloader)\n",
        "states = {\n",
        "            'epoch': n_epochs,\n",
        "            'state_dict': model.state_dict(),\n",
        "            'optimizer': optimizer.state_dict(),\n",
        "            'tr_loss' : tr_loss['sug'],\n",
        "            'val_loss' : val_loss['sug'],\n",
        "            'lips' : lips,\n",
        "            'grad' : grad,\n",
        "            'times' : times\n",
        "         }\n",
        "torch.save(states, './MNIST/CNN_sug')"
      ],
      "execution_count": 0,
      "outputs": []
    },
    {
      "metadata": {
        "id": "H8y30s5VE4px",
        "colab_type": "code",
        "colab": {}
      },
      "cell_type": "code",
      "source": [
        ""
      ],
      "execution_count": 0,
      "outputs": []
    }
  ]
}